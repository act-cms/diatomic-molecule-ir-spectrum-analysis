{
 "cells": [
  {
   "cell_type": "markdown",
   "id": "1f5421ae-b5a8-4381-8744-34181ab1a839",
   "metadata": {},
   "source": [
    "# ANALYSIS OF THE IR SPECTRUM OF H$^{35}$Cl AND D$^{35}$Cl (STUDENT HANDOUT)"
   ]
  },
  {
   "cell_type": "markdown",
   "id": "f23a5098-c3bf-4736-8a6f-18c0030bfbd4",
   "metadata": {
    "jp-MarkdownHeadingCollapsed": true
   },
   "source": [
    "# Background information and assignment"
   ]
  },
  {
   "cell_type": "markdown",
   "id": "4f7571ff-17e6-4028-85fe-8f2d9441c45e",
   "metadata": {},
   "source": [
    "## Pre-requisite knowledge"
   ]
  },
  {
   "cell_type": "markdown",
   "id": "fac7a0bc-c5f7-4520-b933-2796e9ff47d2",
   "metadata": {},
   "source": [
    "**Scientific pre-requisite knowledge**\n",
    "\n",
    "To complete the notebook below, students should be able to\n",
    "\n",
    "- apply selection rules and the Bohr frequency condition to interpret spectra.\n",
    "- describe the underlying physical principles of the harmonic oscillator and rigid rotor approximations.\n",
    "- use the harmonic vibrational frequency and rotational constant to determine the force constant and equilibrium bond length of a diatomic molecule, respectively.\n",
    "- describe the physical origin for deviations from the harmonic oscillator and rigid rotor models.\n",
    "\n",
    "For an introduction to or review of the above topics, please see a standard Physical Chemistry text (e.g. chapter 5 and sections 13.1 - 13.5 in McQuarrie's [\"Physical Chemistry: A Molecular Approach\"](https://uscibooks.aip.org/books/physical-chemistry-a-molecular-approach/) would serve as a good resource).\n",
    "\n",
    "**Programming and Python pre-requisite knowledge**\n",
    "\n",
    "To complete the notebook below, students should know\n",
    "\n",
    "- basic Python syntax (variable types, variable assignment, formatted printing using f-strings, etc. )\n",
    "- what functions are and how to use them\n",
    "- how to load standard Python libraries (NumPy, SciPy, etc.) and use the functions included in these libraries\n",
    "- how to write code for user-defined functions\n",
    "\n",
    "For an introduction to or review of the above programming topics, please see the [\"Introduction to programming and Python\"](https://github.com/act-cms/lesson-01-introduction-to-programming-and-python.git) Jupyter notebook."
   ]
  },
  {
   "cell_type": "markdown",
   "id": "5ac904f9-bf96-498c-aa60-33be5ad6ba6c",
   "metadata": {},
   "source": [
    "## Learning outcomes"
   ]
  },
  {
   "cell_type": "markdown",
   "id": "71d7ceb6-5168-4d68-97a3-6716f077cb83",
   "metadata": {},
   "source": [
    "After completing these exercises, you will be able to\n",
    "\n",
    "- describe the physical orignis of the lines in the rovibrational spectrum of a diatomic molecule\n",
    "- analyze the high-resolution IR spectrum of a diatomic molecule to extract spectroscopic constants\n",
    "- relate spectroscopic constants to structural parameters including the force constant, equilibrium bond length, and bond dissociation energy of a diatomic molecule\n",
    "- describe and quantitatively determine the mass-dependence of various spectroscopic constants upon isotopic substitution\n",
    "- use SciPy to fit experimental data to a polynomial\n",
    "- implement functions in Python to carry out tasks specific to the analysis of the IR spectrum of a diatomic molecule\n",
    "- use your Python code to analyze the IR spectrum of H$^{35}$Cl and/or D$^{35}$Cl. "
   ]
  },
  {
   "cell_type": "markdown",
   "id": "50d39899-fe63-4d32-b432-374661bdf36a",
   "metadata": {},
   "source": [
    "## 1. Introduction"
   ]
  },
  {
   "cell_type": "markdown",
   "id": "88c07e55-8b72-46f8-9fba-e71069cec36f",
   "metadata": {},
   "source": [
    "Excluding contributions from electronic and translational degrees of fredom, the energy of a diatomic molecule (such as HCl) is\n",
    "\\begin{equation}\n",
    "\\tilde{T}(n,J) = \\tilde{\\nu}_e\\left( n + \\frac{1}{2} \\right) + \\tilde{B}_e J\\left( J+1 \\right) - \\tilde{\\nu}_ex_e\\left( n + \\frac{1}{2} \\right)^2 -\\tilde{D}_e J^2\\left( J+1 \\right)^2 - \\tilde{\\alpha}_e \\left( n + \\frac{1}{2} \\right) J \\left( J+1\\right),\n",
    "\\tag{1.1}\n",
    "\\end{equation}\n",
    "where the vibrational and rotational quantum numbers are allowed to take on the values $n = 0, 1, ...$ and $J=0, 1, 2, ...$, respectively. \n",
    "\n",
    "The first term in Eq. (1.1) is the harmonic oscillator contribution to the energy with\n",
    "\\begin{equation}\n",
    "\\tilde{\\nu}_e = \\frac{1}{2\\pi c}\\sqrt\\frac{k}{\\mu},\n",
    "\\tag{1.2}\n",
    "\\end{equation}\n",
    "where $c$ is the speed of light in vacuum expressed in units of cm$\\cdot$s$^{-1}$, $k$ is the force constant in units of kg$\\cdot$s$^{-2}$, and the reduced mass is related to the masses of the two atoms $m_A$ and $m_B$ (both expressed in units of kg) by\n",
    "\\begin{equation}\n",
    "\\mu = \\frac{m_A m_B}{m_A + m_B}.\n",
    "\\tag{1.3}\n",
    "\\end{equation}\n",
    "Notice that using these units, the harmonic vibrational constant $\\tilde{\\nu}_e$ has units of cm$^{-1}$. By convention, a symbol with a \"tilde\" ($\\tilde{\\hspace{2mm}}$) above it implies that the value of that quantity is in units of cm$^{-1}$. The second term in Eq. (1.1) correponds to the rigid rotor contribution to the energy with\n",
    "\\begin{equation}\n",
    "\\tilde{B}_e = \\frac{h^2}{8 \\pi c \\mu R_e^2},\n",
    "\\tag{1.4}\n",
    "\\end{equation}\n",
    "where $R_e$ is the equilibrium bond length in units of m, and $h$ is Planck's constant in units of J$\\cdot$s$^{-1}$. The third term in Eq. (1.1) (proportional to the anharmonicity constant $\\tilde{\\nu}_ex_e$) accounts for anharmonicity since the real potential for a molecule does not increase quadratically with the internuclear separation. Similarly, the fourth term in Eq. (1.1) that is proportional to the centrifugal distortion constant $\\tilde{D}_e$ accounts for the observation that a chemical bond is not truly rigid. The last term in Eq. (1.1), proportional to $\\tilde{\\alpha}_e$, accounts for the coupling between the rotational and vibrational degrees of freedom. Before moving on to discuss rovibrational transitions, we note that *all* spectroscopic constants in Eq. (1.1) are positive.\n",
    "\n",
    "Assuming that the harmonic vibrational constant $\\tilde{\\nu}_e$ is much smaller than the thermal energy and that the rotational constant $\\tilde{B}_e$ is smaller than or comparable to the thermal energy, the change in quantum numbers for an allowed transition of a heteronuclear diatomic obey\n",
    "\n",
    " - $P$-branch: $\\Delta n = 1, 2, ...$ and $\\Delta J = - 1$ $\\hspace{1cm}$ vibrational excitation and rotational de-excitation\n",
    " - $R$-branch: $\\Delta n = 1, 2, ...$ and $\\Delta J = + 1$ $\\hspace{1cm}$ vibrational excitation and rotational excitation\n",
    "\n",
    "$\\Delta n = 1$ for the fundamental vibrational transition and $\\Delta n = 2$ for the first overtone (we will call the first overtone just the overtone for short). A schematic diagram for the rovibrational energy levels of a diatomic and the allowed transitions in the $P$ and $R$ branches of the fundamental and first overtone is shown in the image below.\n",
    "\n",
    "<img src=\"https://github.com/act-cms/lesson-04-diatomic-molecule-ir-spectrum-analysis/blob/main/rovib.png?raw=true\" style=\"display: block; margin: 0 auto; max-height:1200px;\">\n",
    "\n",
    "After some algebra (you can either take my word for it, or, if you wish, you can work it out yourself), using Eq. (1.1), the $P$- branch lines ($\\Delta J = -1$) for the fundamental vibrational transitions are given by\n",
    "$$\n",
    "\\tilde{\\nu}_{\\rm fundamental}^{P}(J) = \\tilde{T}(1,J-1) - \\tilde{T}(0,J) = \\tilde{\\nu}_0 + \\left( 2 \\tilde{\\alpha}_e - 2 \\tilde{B}_e  \\right) J - \\tilde{\\alpha}_e J^2 + 4 \\tilde{D}_eJ^3, \n",
    "\\tag{1.5a}\n",
    "$$\n",
    "where $J$ denotes the rotational quantum number of the initial energy level of the molecule. Similarly, the peak positions in the $R$ branch ($\\Delta J = +1$) are\n",
    "$$\n",
    "\\tilde{\\nu}_{\\rm fundamental}^{R} (J) = \\tilde{T}(1,J+1) - \\tilde{T}(0,J) = \\tilde{\\nu}_0 - \\left( 2 \\tilde{B}_e - 2 \\tilde{\\alpha}_e \\right) (J+1) - \\tilde{\\alpha}_e (J+1)^2 - 4 \\tilde{D}_e(J+1)^3,\n",
    "\\tag{1.5b}\n",
    "$$\n",
    "where the band-head of the fundamental is \n",
    "$$\n",
    "\\tilde{\\nu}_0 = \\tilde{\\nu}_e - 2 \\tilde{\\nu}_ex_e\n",
    "\\tag{1.6}\n",
    "$$\n",
    "In principle, it is possible to analyze the $P$ and $R$ branches separately, however, we can combine Eqs. (1.5a) and (1.5b) if we introduce the variable $m$ such that $m = -J$ for the $P$ branch and $m=J+1$ for the $R$ branch. Since $J\\geq 0$, $m = \\pm 1, \\pm 2, ...$ (where positive values correspond to the $R$ branch transitions and the $P$-branch lines correspond to negative $m$), and the resulting expression for the fundamental lines in terms of $m$ is\n",
    "$$\n",
    "\\tilde{\\nu}_{\\rm fundamental}(m)= \\tilde{\\nu}_0 + \\left( 2 \\tilde{B}_e - 2 \\tilde{\\alpha}_e \\right) m - \\tilde{\\alpha}_e m^2 - 4 \\tilde{D}_em^3\n",
    "\\tag{1.7}\n",
    "$$\n",
    "Eq. (1.7) suggests that a thrid-order polynomial should be adequate to describe the line positions associated with the fundamental transition. \n",
    "\n",
    "Similar logic allows us to combine the expressions for the $P$- and $R$-branch lines of the overtone as\n",
    "$$\n",
    "\\tilde{\\nu}_{\\rm overtone}(m) = \\tilde{\\nu}_1 + \\left( 2 \\tilde{B}_e - 3 \\tilde{\\alpha}_e \\right) m - 2 \\tilde{\\alpha}_e m^2 - 4 \\tilde{D}_em^3,\n",
    "\\tag{1.8}\n",
    "$$\n",
    "where the band head is given by\n",
    "$$\n",
    "\\tilde{\\nu}_1 = 2 \\tilde{\\nu}_e - 6 \\tilde{\\nu}_ex_e .\n",
    "\\tag{1.9}\n",
    "$$\n",
    "Eq. (1.9) suggests that a thrid-order polynomial should be adequate to describe the line positions for the first overtone."
   ]
  },
  {
   "cell_type": "markdown",
   "id": "502c1ebc-d88e-4be7-9e70-e7c1f1782369",
   "metadata": {},
   "source": [
    "## 2. Outline of the analysis of the IR spectrum of $\\bf \\rm H^{35}Cl$ and/or $\\bf \\rm D^{35}Cl$"
   ]
  },
  {
   "cell_type": "markdown",
   "id": "ef617bda-d128-482a-82d3-06987610a73e",
   "metadata": {},
   "source": [
    "Provided that we have (either via experimental measurements or computational modelling) the peak positions in the fundamental and overtone transitions of HCl, we can determine the spectroscopic constants of $\\rm H^{35}Cl$ from Eqs. (1.6) - (1.9) as follows\n",
    "\n",
    "1. Given the spectra, assign the lines (i.e. identify the $P$ and $R$ branches and assign the values of the initial rotational quantum number $J$ to each transition). Then, assign the value of $m$ to each line (e.g. $m=-1$ for $P(1)$ and $m=1$ for $R(0)$) and store the data (values of $m$ and corresponding line positions) in a separate file for the fundmental and overtone.\n",
    "  \n",
    "2. Using the data for the fundamental,\n",
    "\n",
    "    A. Read in the data from the file.\n",
    "\n",
    "    B. Because the highest power of $m$ is 3 in Eq. (1.7), fit a cubic polynomial to the data.\n",
    "   \n",
    "    C. Use Eq. (1.7) to determine the constants $\\tilde{\\nu}_0$, $\\tilde{B}_e$, $\\tilde{D}_e$, and $\\tilde{\\alpha}_e$ from the fitting parameters of the cubic polynomial.\n",
    "\n",
    "3. Using the data for the overtone,\n",
    "\n",
    "    A. Read in the data from the file.\n",
    "\n",
    "    B. Because the highest power of $m$ is 3 in Eq. (1.7), fit a cubic polynomial to the data.\n",
    "   \n",
    "    C. Use Eq. (1.8) to determine the constants $\\tilde{\\nu}_1$, $\\tilde{B}_e$, $\\tilde{D}_e$, and $\\tilde{\\alpha}_e$ from the fitting parameters of the cubic polynomial.\n",
    "   \n",
    "4. Using the appropriate fitting coefficients, use Eqs. (1.6) and (1.9) to determine $\\tilde{\\nu}_e$ and $\\tilde{\\nu}_ex_e$.\n",
    "\n",
    "5. Average the values of $\\tilde{B}_e$, $\\tilde{D}_e$, and $\\tilde{\\alpha}_e$ from the analysis of the fundamental and overtone data.\n",
    "\n",
    "6. Using the appropriate spectroscopic constants and isotope masses accurate to 5 decimal places, use Eqs. (1.2) - (1.4) to calculate the force constant $k$ and equilibrium bond length $R_e$.\n",
    "\n",
    "7. Once we have $\\tilde{\\nu}_e$ and $\\tilde{\\nu}_ex_e$, we can approximate the bond dissociation energy $D_0$ as \n",
    "\n",
    "$$\n",
    "D_0 = \\frac{\\tilde{\\nu}_e \\left( 1- x_e^2\\right)}{4x_e}\n",
    "\\tag{1.10}\n",
    "$$\n",
    "\n",
    "**NOTE:** The above assumes that both the fundamental and overtone spectra are available. If only one of these (most likely the fundamental) is available, you will not be able to calculate $\\tilde{\\nu}_e$, $\\tilde{\\nu_e}x_e$, $k$, or $D_0$. \n",
    "\n",
    "**If the IR spectrum of DCl is available**, you can also examine how/if the values of structural parameters ($k$, $R_e$, and $D_0$) and spectrocopic constants ($\\tilde{\\nu}_e$, $\\tilde{\\nu}_ex_e$, $\\tilde{B}_e$, $\\tilde{D}_e$, and $\\tilde{\\alpha}_e$) change upon isotopic substitution. To do so, we first carry out the same analysis as above using the spectral lines of $\\bf D^{35}Cl$. \n",
    "\n",
    "In general, a spectroscopic constant $\\tilde{\\beta}$ is proportional to some power $p$ of the reduced mass $\\mu$; i.e. $\\tilde{\\beta} \\propto \\mu^p$. Thus for a pair of isotopologues with reduced masses $\\mu_1$ and $\\mu_2$, we can determine the exponent $p$ from\n",
    "$$\n",
    "\\frac{\\tilde{\\beta}_1}{\\tilde{\\beta}_2} = \\left( \\frac{\\mu_1}{\\mu_2} \\right)^p\n",
    "\\tag{1.11}\n",
    "$$\n",
    "From Eq. (1.2), we see that $p= - \\frac{1}{2}$ for $\\tilde{\\nu}_e$ (as indicated by a smaller value of the band head $\\tilde{\\nu}_0$ for the heavier $\\rm D^{35}Cl$). Similarly, we see from Eq. (1.4) that $p = -1$ for $\\tilde{B}_e$ (which results in a smaller line separation in the $P$ and $R$ branches of the heavier $\\rm D^{35}Cl$). "
   ]
  },
  {
   "cell_type": "markdown",
   "id": "17796b52-7a56-4988-8e08-d3829cba35ef",
   "metadata": {
    "jp-MarkdownHeadingCollapsed": true
   },
   "source": [
    "## 3. Python libraries for physical constants"
   ]
  },
  {
   "cell_type": "markdown",
   "id": "75231b71-72f3-4a3c-9458-8831ec1d773f",
   "metadata": {},
   "source": [
    "To avoid typographical errors, it is good practice use standardized libraries for retrieving physical constants. SciPy's ```constants``` library provides a variety of physical constants such as $h$, $c$, $N_A$, etc. To load the library, you can use the syntax\n",
    "\n",
    "```python\n",
    "import scipy.consts as spconst\n",
    "```\n",
    "\n",
    "To use a physical constant denoted with ```symbol_for_physical_constant```, you can use the syntax ```spconst.symbol_for_physical_constant```; for example, to use the speed of light in vacuum, you would use ```sponst.c```. Of course, the units of $c$ are important. Although it is a fairly safe assumption that SciPy most likely uses SI units (m$\\cdot$s$^{-1}$ for $c$), it is good to check. To do so, we can use the following syntax\n",
    "\n",
    "```python\n",
    "print(spconst.physical_constants['description_of_physical_constant'][1])\n",
    "```\n",
    "\n",
    "Technically, ```spconst.physical_constants['description_of_physical_constant']``` returns an array of length 3. The 0$^{\\rm th}$ element represent the value of the physical constant and the first element indicates the units in which the constant is expressed. Going back the the speed of ight in vacuum example, the command ```print(spconst.physical_constants['speed of light in vacuum'][1])``` would indicate that the value of $c$ is indeed expressed in units m$\\cdot$s$^{-1}$.  \n",
    "\n",
    "To find out what physical constants are available and what the symbols and descriptions are for the physical constants, you can use```help(spconst)```. The same command will also give you more information on SciPy's physical constants library if you are interested."
   ]
  },
  {
   "cell_type": "markdown",
   "id": "2d83a47e-0bde-4dc4-80f4-22a311aeb49c",
   "metadata": {},
   "source": [
    "## 4. Libraries to retrieve isotope masses"
   ]
  },
  {
   "cell_type": "markdown",
   "id": "57941390-a300-4bb1-bd1f-11e44b3f11c2",
   "metadata": {},
   "source": [
    "If the Mendeleev library is available, you can use it retrieve information about elements and/or isotopes. To check if the library is installed on your computer/computing platform, you can type ```import mendeleev``` in a cell. If you get an error message, the library is not available and you will have to manually type in isotope masses. If you do not get an error message, you can retrieve isotope information as follows.\n",
    "\n",
    "First, use the syntax\n",
    "\n",
    "```python\n",
    "from mendeleev import isotope as iso\n",
    "```\n",
    "to load the library and define the shorthand ```iso``` for it. The command ```iso(Z,A)``` returns information about an isotope with atomic number Z and mass number A, and the command ```iso(A,Z).mass``` allows you to access the mass of the isotope. As an example, the command ```mass_h3 = iso(1,3).mass``` retrieves the mass of tritium ($\\rm ^3H$) and assigns it to the variable ```mass_h3```. To find out what additional information is stored about an isotope, you can use ```print(iso(A,Z))```."
   ]
  },
  {
   "cell_type": "markdown",
   "id": "090da74b-bbb8-4a7c-9f57-4fc95fb1a08f",
   "metadata": {},
   "source": [
    "# <span style=\"color:blue\"> Assignment </span>"
   ]
  },
  {
   "cell_type": "markdown",
   "id": "fb6149d6-d36d-4dc1-86a9-7c486e74ff2d",
   "metadata": {},
   "source": [
    "<span style=\"color:blue\">\n",
    "\n",
    "In the cells below, you will write code to analyze the rovibrational spectrum of $\\rm H^{35}Cl$ and $\\rm D^{35}Cl$ (fundamental and overtone for both molecules). As you may anticipate from the above discussion, this means that you will need to perform the same type of task multiple times with different data (e.g. you will need to read in 4 sets of data). This is precisely the reason why you will write code with general user-defined functions instead of copying-and-pasting code (which makes debugging and maintenance of code a nightmare).\n",
    "\n",
    "Once you have written the code for ALL functions, you can call them to perform your analysis with different input data (fundamental and overtone spectra for H$^{35}$Cl and D$^{35}$Cl). After you have performed all the necessary calculations, you will print a summary of the key results at the end of this Jupyter notebook using formatted printing. Depending on what spectra are available, this will include \n",
    "\n",
    "- $\\tilde{\\nu}_e$ for H$^{35}$Cl and D$^{35}$Cl (4 significant figures, in units of cm$^{-1}$).\n",
    "- $\\tilde{\\nu}_ex_e$ for H$^{35}$Cl and D$^{35}$Cl (4 significant figures, in units of cm$^{-1}$).\n",
    "- $\\tilde{B}_e$ for H$^{35}$Cl and D$^{35}$Cl (4 significant figures, in units of cm$^{-1}$).\n",
    "- $\\tilde{D}_e$ for H$^{35}$Cl and D$^{35}$Cl (4 significant figures, in units of cm$^{-1}$).\n",
    "- $\\tilde{\\alpha}_e$ for H$^{35}$Cl and D$^{35}$Cl (4 significant figures, in units of cm$^{-1}$).\n",
    "- $k$ for H$^{35}$Cl and D$^{35}$Cl (4 significant figures, in units of kg$\\cdot$s$^{-2}$).\n",
    "- $R_e$ for H$^{35}$Cl and D$^{35}$Cl (4 significant figures, in units of ${\\mathring{\\rm{A}}}$).\n",
    "- $D_0$ for H$^{35}$Cl and D$^{35}$Cl (3 significant figures, in units of kJ$\\cdot$mol$^{-1}$).\n",
    "- the exponent $p$ for $\\tilde{\\nu}_e$, $\\tilde{\\nu}_ex_e$, $\\tilde{B}_e$, $\\tilde{D}_e$, and $\\tilde{\\alpha}_e$ (4 significant figures) \n",
    "\n",
    "A few other important notes on writing and using your code\n",
    "\n",
    "- To ensure that you do not overwrite relevant data, you need to make sure to use different variable names. For example, if you want to use the function ```read_data``` (see below for a description of the function) to read in the data for the fundamental spectrum of $\\rm H^{35}Cl$, you could use\n",
    "  \n",
    "  ```python\n",
    "    m_values_hcl_fund , lines_hcl_fund = read_data( hcl_fundamental_file_name ),\n",
    "  ```\n",
    "  and the command\n",
    "  \n",
    "  ```python\n",
    "    m_values_dcl_over , lines_dcl_over = read_data( dcl_overtone_file_name )\n",
    "  ```\n",
    "  would read in the data for the overtone of $\\rm D^{35}Cl$. Because we assign the return values to different variables when we call the functions, data will not be overwritten.<br>\n",
    "\n",
    "- Use isotope masses accurate to 5 decimal places and physical constants from SciPy's constants library (see discussion above).\n",
    "- While debugging your code may require that you print intermediate results (such as fitting parameters), make sure to remove any such print statements from the finalized version of your code. Your Jupyter notebook should only print results in the [\"Summary printing\"](##summary-printing) section below. Use formatted printing with f-strings! \n",
    "\n",
    "</span>"
   ]
  },
  {
   "cell_type": "markdown",
   "id": "a439c98d-5479-42fe-852a-ac8a8e3fe1d4",
   "metadata": {
    "jp-MarkdownHeadingCollapsed": true
   },
   "source": [
    "# Import libraries"
   ]
  },
  {
   "cell_type": "markdown",
   "id": "6e4d8fa4-4c2c-4228-b3fa-88403301f6a2",
   "metadata": {},
   "source": [
    "In the cell below, import all libraries that are necessary to carry out your analysis. "
   ]
  },
  {
   "cell_type": "code",
   "execution_count": null,
   "id": "d038d34f-1d42-4d6f-b8d9-c70f558db25a",
   "metadata": {},
   "outputs": [],
   "source": []
  },
  {
   "cell_type": "markdown",
   "id": "54cac419-e8fc-4650-a508-59da2d608d96",
   "metadata": {
    "jp-MarkdownHeadingCollapsed": true
   },
   "source": [
    "# <span style=\"color:green\"> Input parameters </span>"
   ]
  },
  {
   "cell_type": "markdown",
   "id": "61c49764-69fb-4a9b-9ce2-540a8677ec30",
   "metadata": {},
   "source": [
    "In the cell below, specify any parameters needed to perform the analysis; these include file names for data from the IR spectra as well as isotope masses **accurate to five decimal places**. This is **NOT** the appropriate place to define physical constants as they are not input variables that the user should change!"
   ]
  },
  {
   "cell_type": "code",
   "execution_count": null,
   "id": "c0487618-fc78-46b2-a44e-6fe695473831",
   "metadata": {},
   "outputs": [],
   "source": []
  },
  {
   "cell_type": "markdown",
   "id": "bd3ed1d9-4050-4c96-af16-89ba905cacac",
   "metadata": {
    "jp-MarkdownHeadingCollapsed": true
   },
   "source": [
    "# Python code for functions"
   ]
  },
  {
   "cell_type": "markdown",
   "id": "649f0878-5084-42fa-b93d-ecd95606867b",
   "metadata": {},
   "source": [
    "## Functions for reading in lines and fitting a cubic polynomial"
   ]
  },
  {
   "cell_type": "markdown",
   "id": "a04c9560-ff4e-46c7-a5c9-22781f019786",
   "metadata": {},
   "source": [
    "In the cell below, write code for a function named ```read_data``` that reads in the a spectrum from a file. The function should take as its only input the name of the file ```fname``` and return ```m_values``` and ```line_postions```.\n",
    "\n",
    "<span style=\"color:green\"> There is a function in the the sinc-DVR code that is similar to this, so take a look to help you get started on this </span>"
   ]
  },
  {
   "cell_type": "code",
   "execution_count": null,
   "id": "1eadf564-e92c-41d3-be4b-b06dc8a97220",
   "metadata": {},
   "outputs": [],
   "source": []
  },
  {
   "cell_type": "markdown",
   "id": "53e1d210-f4b3-4655-8f88-c7569a9cfa82",
   "metadata": {},
   "source": [
    "In the cell below, write code for a function named ```cubic_poly``` that evaluates the value of a cubic polynomial $y = A_0 + A_1 \\cdot x + A_2 \\cdot x^2 + A_3 \\cdot x^3$ at $x$. The only input arguments to the function should be the coefficients ```A0```, ```A1```, ```A2``` and ```A3```, and the value of ```x``` where the function is to be evaluated. The function should only return the value fo the cubic polynomial ```cubic_poly_value```."
   ]
  },
  {
   "cell_type": "code",
   "execution_count": null,
   "id": "45021151-a535-47b5-b834-c6975375319c",
   "metadata": {},
   "outputs": [],
   "source": []
  },
  {
   "cell_type": "markdown",
   "id": "4574eece-fe73-4b7a-ad54-8d2ac3313b9a",
   "metadata": {},
   "source": [
    "In the cell below, write code for a function named ```fit_polynomial``` that fits a cubic polynomial $y = A_0 + A_1 \\cdot x + A_2 \\cdot x^2 + A_3 \\cdot x^3$ to the line positions. The only input arguments to the function should be ```m_values``` and ```line_positions```, and the function should return the fitting coefficients ```A0```, ```A1```, ```A2``` and ```A3```. \n",
    "\n",
    "<span style=\"color:green\"> See the [\"Introduction to Programming and Python\"](https://github.com/act-cms/lesson-01-introduction-to-programming-and-python) Jupyter notebook exercises for curve fitting. </span>"
   ]
  },
  {
   "cell_type": "code",
   "execution_count": null,
   "id": "94308423-5d7f-4995-91da-55ef16bc4ddf",
   "metadata": {},
   "outputs": [],
   "source": []
  },
  {
   "cell_type": "markdown",
   "id": "36ba1e67-356b-4238-be40-898cd94f0a2f",
   "metadata": {},
   "source": [
    "## Functions for determining spectroscopic constants from fitting parameters"
   ]
  },
  {
   "cell_type": "markdown",
   "id": "ca1a5fa4-7f6d-45ec-8315-4d1a49ac9d80",
   "metadata": {},
   "source": [
    "As discussed above, the *fundamental* line positions (P and R branches combined) can be written as \n",
    "\n",
    "\\begin{equation}\n",
    "\\tilde{\\nu}_{\\rm fundamental} = \\tilde{\\nu}_0 + \\left( 2\\tilde{B}_e - 2\\tilde{\\alpha}_e\\right) m -\\tilde{\\alpha}_e m^2 - 4\\tilde{D}_e m^3 .\n",
    "\\end{equation}\n",
    "\n",
    "In the cell below, write code for a function named ```calculate_spec_consts_fund``` that takes as its inputs the coefficients of a cubic polynomial (the fitting parameters ```A0```, ```A1```, ```A2```, and ```A3```) and returns the spectroscopic constants (```v0```, ```Be```, ```De```, and ```Ae```) for the fundamental."
   ]
  },
  {
   "cell_type": "code",
   "execution_count": null,
   "id": "c0740bdd-3448-4ad2-bd0e-5731a8df9172",
   "metadata": {},
   "outputs": [],
   "source": []
  },
  {
   "cell_type": "markdown",
   "id": "32d1caf4-1aaa-4f61-8744-c3a4fad79dba",
   "metadata": {},
   "source": [
    "As discussed above, the *first overtone* line positions (P and R branches combined) can be written as \n",
    "\n",
    "\\begin{equation}\n",
    "\\tilde{\\nu}_{\\rm 1^{st} overtone} = \\tilde{\\nu}_1 + \\left( 2\\tilde{B}_e - 3\\tilde{\\alpha}_e\\right) m  -2\\tilde{\\alpha}_e m^2 - 4\\tilde{D}_e m^3  \n",
    "\\end{equation}\n",
    "\n",
    "In the cell below, write code for a function named ```calculate_spec_consts_over``` that takes as its inputs the coefficients of a cubic polynomial (the fitting parameters ```A0```, ```A1```, ```A2```, and ```A3```) and returns the spectroscopic constants (```v1```, ```Be```, ```De```, and ```Ae```) for the first overtone."
   ]
  },
  {
   "cell_type": "code",
   "execution_count": null,
   "id": "38d315a7-f6fc-493a-acba-d80db4432e31",
   "metadata": {},
   "outputs": [],
   "source": []
  },
  {
   "cell_type": "markdown",
   "id": "f0f736cb-bc87-4d71-b373-623f21c34c29",
   "metadata": {},
   "source": [
    "Given that $\\tilde{\\nu}_0 = \\tilde{\\nu}_e - 2 \\tilde{\\nu}_ex_e$ and $\\tilde{\\nu}_1 = 2 \\tilde{\\nu}_e - 6 \\tilde{\\nu}_ex_e$ write code for a function named ```calculate_vibrational_constants``` that returns the vibrational constants ```ve``` and ```vexe``` given the band head positions for the fundamental and the first overtone (```v0``` and ```v1```)."
   ]
  },
  {
   "cell_type": "code",
   "execution_count": null,
   "id": "4d88cb4b-3fd2-4d13-83b8-94e21fe4912c",
   "metadata": {},
   "outputs": [],
   "source": []
  },
  {
   "cell_type": "markdown",
   "id": "a26cb25c-b057-4a2e-8042-6041c426a349",
   "metadata": {},
   "source": [
    "## Function to calculate the reduced mass"
   ]
  },
  {
   "cell_type": "markdown",
   "id": "cbc9f4ef-9471-4740-98b0-ea8f10525d72",
   "metadata": {},
   "source": [
    "In the cell below, write code for a function named ```calculate_mu``` that returns the reduced mass ```mu``` given the masses of the two atoms ```m1```, ```m2```. The value of the reduced mass should be expressed in units of kg. Recall that $\\mu$ is the reduced mass of a *single* diatomic! Use SciPy's ```scipy.constants``` library for any physical constants."
   ]
  },
  {
   "cell_type": "code",
   "execution_count": null,
   "id": "6f76faaf-8b3d-474c-b9d5-df3915d0e00a",
   "metadata": {},
   "outputs": [],
   "source": []
  },
  {
   "cell_type": "markdown",
   "id": "84c181ee-ee78-4006-88dc-3cf659fca74d",
   "metadata": {},
   "source": [
    "## Functions for calculating the force constant, equilibrium bond length, and bond dissociation energy"
   ]
  },
  {
   "cell_type": "markdown",
   "id": "67b95634-634c-4815-a62c-01536d03b113",
   "metadata": {},
   "source": [
    "Recall that \n",
    "\\begin{equation} \\tilde{\\nu}_e = \\frac{1}{2\\pi c} \\sqrt{\\frac{k}{\\mu}}\n",
    "\\end{equation}\n",
    "and \n",
    "\\begin{equation}\n",
    "\\tilde{B}_e = \\frac{h}{8\\pi^2 \\mu c R_e^2}\n",
    "\\end{equation}\n",
    "where $h$ is Planck's constant, $c$ is the speed of light in vacuum, and $\\mu = \\frac{m_1 m_2}{m_1 + m_2}$ is the reduced mass for a *single* diatomic molecule.\n",
    "\n",
    "In the cell below, write code for a function named ```calculate_k_and_Re``` that takes as its inputs ```ve```, ```Be```, ```m1```, and ```m2``` , and it returns ```k``` and ```Re``` in units of kg$\\cdot$s$^{-2}$ and ${\\mathring{\\rm A}}$, respectively.\n",
    "\n",
    "<span style=\"color:green\"> Note that because $\\tilde{\\nu}_e$ and $\\tilde{B}_e$ are usually expressed in units of cm$^{-1}$, the speed of light should be expressed in units of cm$\\cdot$s$^{-1}$ while $h$ and $\\mu$ should be expressed in SI units. Use SciPy's ```scipy.constants``` library for any physical constants. "
   ]
  },
  {
   "cell_type": "code",
   "execution_count": null,
   "id": "c982d499-5ce1-4172-a4d3-a27a4741605e",
   "metadata": {},
   "outputs": [],
   "source": []
  },
  {
   "cell_type": "markdown",
   "id": "ee5aabba-cabb-41b5-b505-fb7edb3e8c94",
   "metadata": {},
   "source": [
    "Assuming that the energy gap between adjacent vibrational states vanishes at the dissociation limit, the bond dissociation energy may be *approximated* as\n",
    "\\begin{equation}\n",
    "D_0 = \\frac{\\tilde{\\nu}_e \\left( 1 - x_e^2\\right)}{4x_e}\n",
    "\\end{equation}\n",
    "\n",
    "where $x_e = \\frac{\\tilde{\\nu}_ex_e}{\\tilde{\\nu}_e}$. \n",
    "\n",
    "In the cell below, write code for a function named ```calculate_D0``` that takes as its inputs the vibrational constants ```ve``` and ```vexe```, and it returns the value of the bond dissociation energy ```D0``` in units of kJ$\\cdot$mol$^{-1}$. Use SciPy's ```scipy.constants``` library for any physical constants."
   ]
  },
  {
   "cell_type": "code",
   "execution_count": null,
   "id": "e2508c64-6765-4c1f-97d7-d81bd848ed9e",
   "metadata": {},
   "outputs": [],
   "source": []
  },
  {
   "cell_type": "markdown",
   "id": "24fd0e7f-82a5-42b8-84b9-0065fb9e2612",
   "metadata": {},
   "source": [
    "## Function for determining mass-dependence of spectroscopic constants"
   ]
  },
  {
   "cell_type": "markdown",
   "id": "946a4f15-7297-4f5f-b99a-f0741192be40",
   "metadata": {},
   "source": [
    "As discussed above, for a pair of isotopologues with spectroscopic constants ($\\tilde{\\beta}_1$ and $\\tilde{\\beta}_2$) and corresponding reduced masses ($\\mu_1$ and $\\mu_2$), we have\n",
    "\\begin{equation}\n",
    "\\frac{\\tilde{\\beta}_1}{\\tilde{\\beta}_2} = \\left( \\frac{\\mu_1}{\\mu_2}\\right)^p\n",
    "\\end{equation}\n",
    "\n",
    "In the cell below, write code for a function named ```calculate_exponent``` that takes as its inputs the values of spectroscopic constants ```beta_1``` and ```beta_2```, and the reduced masses ```mu_1``` and ```mu_2``` and returns the value of the exponent ```p```."
   ]
  },
  {
   "cell_type": "code",
   "execution_count": null,
   "id": "cea05b23-9040-41ce-bd94-d55630f868d5",
   "metadata": {},
   "outputs": [],
   "source": []
  },
  {
   "cell_type": "markdown",
   "id": "efd81262-4977-49e0-906b-8f33f6e6f095",
   "metadata": {
    "jp-MarkdownHeadingCollapsed": true
   },
   "source": [
    "# Analysis of H$^{35}$Cl fundamental and overtone (spectroscopic constants, $k$, $R_e$, and $D_0$)"
   ]
  },
  {
   "cell_type": "markdown",
   "id": "12a346fd-c353-4b36-a27c-53e5dde8a660",
   "metadata": {},
   "source": [
    "In the cell below, call the appropriate functions with the appropriate input/output variables in the appropriate order to analyze the **fundamental** spectrum of $\\rm H^{35}Cl$."
   ]
  },
  {
   "cell_type": "code",
   "execution_count": null,
   "id": "8f2334c5-0375-47bd-94c0-0d8de8522b1a",
   "metadata": {},
   "outputs": [],
   "source": []
  },
  {
   "cell_type": "markdown",
   "id": "285bb388-5aff-4985-8347-e90612d3d8f6",
   "metadata": {},
   "source": [
    "In the cell below, call the appropriate functions with the appropriate input/output variables in the appropriate order to analyze the **first overtone** spectrum of $\\rm H^{35}Cl$."
   ]
  },
  {
   "cell_type": "code",
   "execution_count": null,
   "id": "0cb710d7-4a29-460d-ace6-506423f05c15",
   "metadata": {},
   "outputs": [],
   "source": []
  },
  {
   "cell_type": "markdown",
   "id": "f95f926d-b8eb-411c-8d6b-05cef44ac988",
   "metadata": {},
   "source": [
    "At this point, you should have two values for $\\tilde{B}_e$, $\\tilde{D}_e$, and $\\tilde{\\alpha}_e$; one from the fundamental, and the other from the first overtone. Average the two values and then use the appropriate functions to calculate $k$, $R_e$ (based on the average $\\tilde{B}_e$ value), and $D_0$ for $\\rm H^{35}Cl$."
   ]
  },
  {
   "cell_type": "code",
   "execution_count": null,
   "id": "bafe2595-d43e-422b-a52c-d4866d108370",
   "metadata": {},
   "outputs": [],
   "source": []
  },
  {
   "cell_type": "markdown",
   "id": "10a21c7c-94a3-465c-9001-4d88cd4f98db",
   "metadata": {
    "jp-MarkdownHeadingCollapsed": true
   },
   "source": [
    "# Analysis of D$^{35}$Cl fundamental and overtone (spectroscopic constants, $k$, $R_e$, and $D_0$)"
   ]
  },
  {
   "cell_type": "markdown",
   "id": "c5eee85b-e333-45a7-9540-5aba5bf219c8",
   "metadata": {},
   "source": [
    "In the cell below, call the appropriate functions with the appropriate input/output variables in the appropriate order to analyze the **fundamental** spectrum of $\\rm D^{35}Cl$."
   ]
  },
  {
   "cell_type": "code",
   "execution_count": null,
   "id": "de9f3e1e-024d-471b-b5b3-b320f6911873",
   "metadata": {},
   "outputs": [],
   "source": []
  },
  {
   "cell_type": "markdown",
   "id": "f28b697e-9575-4ae1-aa9b-d6e11e3990c9",
   "metadata": {},
   "source": [
    "In the cell below, call the appropriate functions with the appropriate input/output variables in the appropriate order to analyze the **first overtone** spectrum of $\\rm D^{35}Cl$."
   ]
  },
  {
   "cell_type": "code",
   "execution_count": null,
   "id": "f2183e64-2567-439f-a3a6-a70fac7f5133",
   "metadata": {},
   "outputs": [],
   "source": []
  },
  {
   "cell_type": "markdown",
   "id": "ef2945ed-207d-4e3f-90b6-69c7577d1760",
   "metadata": {},
   "source": [
    "At this point, you should have two values for $\\tilde{B}_e$, $\\tilde{D}_e$, and $\\tilde{\\alpha}_e$; one from the fundamental, and the other from the first overtone. Average the two values and then use the appropriate functions to calculate $k$, $R_e$ (based on the average $\\tilde{B}_e$ value), and $D_0$ for $\\rm D^{35}Cl$."
   ]
  },
  {
   "cell_type": "code",
   "execution_count": null,
   "id": "922360c8-3c8a-4504-9f43-520a5118c35f",
   "metadata": {},
   "outputs": [],
   "source": []
  },
  {
   "cell_type": "markdown",
   "id": "69d292e4-74f3-4bd5-acce-2331f045b8e5",
   "metadata": {
    "jp-MarkdownHeadingCollapsed": true
   },
   "source": [
    "# Analysis of the effects of isotopic substitution"
   ]
  },
  {
   "cell_type": "markdown",
   "id": "bf52b9ca-c46a-4d93-ae79-9a7efc3436e0",
   "metadata": {},
   "source": [
    "This is where you would call the appropriate function to calculate the value of the exponent $p$ for each spectroscopic constant ( $\\tilde{\\nu}_e$, $\\tilde{\\nu}_ex_e$, $\\tilde{B}_e$, $\\tilde{D}_e$, and $\\tilde{\\alpha}_e$) and determine the reduced-mass dependence."
   ]
  },
  {
   "cell_type": "code",
   "execution_count": null,
   "id": "3f6a3689-674f-4032-bc67-1cd30da3392b",
   "metadata": {},
   "outputs": [],
   "source": []
  },
  {
   "cell_type": "markdown",
   "id": "2babe905-7f3e-48e0-9440-09eb42b30209",
   "metadata": {
    "jp-MarkdownHeadingCollapsed": true
   },
   "source": [
    "# Summary printing"
   ]
  },
  {
   "cell_type": "markdown",
   "id": "aa78d0e5-c782-4958-bac6-969381b6feb1",
   "metadata": {},
   "source": [
    "This is where you would print (using F-string formatted printing) the results from the analysis of fundamental and first overtone spectrum of HCl nd DCl. See the lab manual for what inpformation you should print and with how many significant figures."
   ]
  },
  {
   "cell_type": "code",
   "execution_count": null,
   "id": "39fc77d5-e48d-4b70-bf94-611c754f30ed",
   "metadata": {},
   "outputs": [],
   "source": []
  }
 ],
 "metadata": {
  "kernelspec": {
   "display_name": "Python 3 (ipykernel)",
   "language": "python",
   "name": "python3"
  },
  "language_info": {
   "codemirror_mode": {
    "name": "ipython",
    "version": 3
   },
   "file_extension": ".py",
   "mimetype": "text/x-python",
   "name": "python",
   "nbconvert_exporter": "python",
   "pygments_lexer": "ipython3",
   "version": "3.10.14"
  }
 },
 "nbformat": 4,
 "nbformat_minor": 5
}
