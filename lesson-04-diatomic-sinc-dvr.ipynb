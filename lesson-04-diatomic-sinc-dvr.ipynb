{
 "cells": [
  {
   "cell_type": "markdown",
   "id": "d90d67ce-e6f4-4837-bf13-853d796cb4b9",
   "metadata": {},
   "source": [
    "# SINC-DVR METHOD TO CALCULATE THE ROVIBRATIONAL ENERGIES OF A DIATOMIC MOLECULE #"
   ]
  },
  {
   "cell_type": "markdown",
   "id": "6cb3ff65-e0b4-4950-9096-868c376327b2",
   "metadata": {
    "jp-MarkdownHeadingCollapsed": true
   },
   "source": [
    "# Pre-requisite knowledge"
   ]
  },
  {
   "cell_type": "markdown",
   "id": "97a4b7b5-e981-4cf5-b214-0dbb6fa8627c",
   "metadata": {},
   "source": [
    "**Scientific pre-requisite knowledge**\n",
    "\n",
    "To complete the notebook below, students should be familiar with the\n",
    "\n",
    "- time-independent Schrödinger equation and the postulates of quantum mechanics\n",
    "- Born-Oppenheimer approximation and electronic structure simulations\n",
    "- different degrees of freedom of a molecule\n",
    "- harmonic oscillator model and its limitations in modeling vibrational motion\n",
    "- rigid rotor model in quantum mechanics\n",
    "\n",
    "For an introduction to or review of the above topics, please see a standard Physical Chemistry text (e.g. sections 4.1 - 4.3, 5.1 - 5.5, 5.8 - 5.9, 9.1, and 13.1 - 13.3 in McQuarrie's [Physical Chemistry: A Molecular Approach](https://mitpress.mit.edu/9781940380216/physical-chemistry/) would serve as a good resource).\n",
    "\n",
    "**Programming and Python pre-requisite knowledge**\n",
    "\n",
    "To complete the notebook below, students should know\n",
    "\n",
    "- basic Python syntax (variable types, variable assignment, formatted printing using f-strings, etc. )\n",
    "- how to execute a Jupyter notebook\n",
    "\n",
    "Although interpreting and modifying Python code is not a pre-requisite to use this Jupyter notebook, these skills may be beneficial for a deeper appreciation of the algorithms."
   ]
  },
  {
   "cell_type": "markdown",
   "id": "3e34012b-a8f2-488e-b703-bf45ab5a0ed7",
   "metadata": {
    "jp-MarkdownHeadingCollapsed": true
   },
   "source": [
    "# Introduction"
   ]
  },
  {
   "cell_type": "markdown",
   "id": "7e37da46-51cd-45d1-9b93-18f3a4381ff8",
   "metadata": {},
   "source": [
    "## 1. Derivation of the vibrational Schrödinger equation for a diatomic molecule"
   ]
  },
  {
   "cell_type": "markdown",
   "id": "2af2fffa-a446-45a6-a0dc-d6466c0c2ec5",
   "metadata": {},
   "source": [
    "To calculate the rovibrational energy of a diatomic molecule $A-B$, we must solve the nuclear Schrödinger equation\n",
    "\n",
    "\\begin{equation}\n",
    "\\left( \\hat{T}^{NUC} + V^{BO}(R) \\right) \\psi^{NUC} = E\\psi^{NUC},\n",
    "\\end{equation}\n",
    "\n",
    "where the Born-Oppenheimer $V^{\\rm BO}(R)$ only depends on the bond length ($R$) and is obtained by solving the electronic Schrödinger equation. The nuclear kinetic energy operator can be expressed in terms of the center of mass (COM) and internal coordinates\n",
    "\n",
    "\\begin{equation}\n",
    "\\hat{T}^{NUC} = \\hat{T}^{COM} + \\hat{T}^{int} = -\\frac{\\hbar^2}{2 M} \\nabla_{COM}^2 - \\frac{\\hbar^2}{2\\mu} \\nabla_{int}^2,\n",
    "\\end{equation}\n",
    "where the total mass of the molecule is $M = m_A + m_B$, the reduced mass is $\\mu = \\frac{m_Am_B}{m_A+m_B}$,\n",
    "$\\nabla_{int} = \\frac{1}{R^2}\\frac{\\partial}{\\partial R} R^2 \\frac{\\partial}{\\partial R} - \\frac{\\hat{J}^2(\\theta,\\phi)}{R^2}$,\n",
    "and the total angular momentum operator $\\hat{J}^2(\\theta)$ only acts on the angular variables $\\theta$ and $\\phi$. With this definition, the nuclear Schrödinger equation is\n",
    "\n",
    "\\begin{equation}\n",
    "\\left( -\\frac{\\hbar^2}{2 M} \\nabla_{COM}^2 - \\frac{\\hbar^2}{2\\mu} \\frac{1}{R^2}\\frac{\\partial}{\\partial R} R^2 \\frac{\\partial}{\\partial R} + \\frac{\\hat{J}^2(\\theta,\\phi) }{2\\mu R^2} + V^{BO}(R) \\right) \\psi^{NUC} = E\\psi^{NUC}\n",
    "\\end{equation}\n",
    "\n",
    "Because the Hamiltonian is separable into the COM coordinates and the internal coordinates $(R,\\theta,\\phi)$, the solutions are of the form $\\psi^{NUC} = \\psi^{COM}\\psi^{int}$ and $E = E_{TRANS} + E_{int}$. The equation involving the COM coordinates  \n",
    "\\begin{equation}\n",
    "-\\frac{\\hbar^2}{2 M} \\nabla_{COM}^2 \\psi^{COM} = E_{TRANS}\\psi^{COM}\n",
    "\\end{equation}\n",
    "is less interesting as it determines the translational energies of the molecule. The equation involving the internal coordinates is given by\n",
    "\n",
    "\\begin{equation}\n",
    "\\left( - \\frac{\\hbar^2}{2\\mu} \\frac{1}{R^2}\\frac{\\partial}{\\partial R} R^2 \\frac{\\partial}{\\partial R} + \\frac{\\hat{J}^2(\\theta,\\phi) }{2\\mu R^2} + V^{BO}(R) \\right) \\psi^{int}(R,\\theta,\\phi) = E_{int}\\psi^{int}(R,\\theta,\\phi)\n",
    "\\end{equation}\n",
    "\n",
    "and determines the internal energy. The above equation has the same mathematical structure as the Schrödinger equation for the hydrogen atom and the solution of both proceeds in a similar manner. First, because $\\hat{J}^2(\\theta,\\phi)$ does not act on $R$, we define $\\psi^{int}(R,\\theta,\\phi)=\\psi^{vib}(R)Y_{J,M_J}(\\theta,\\phi)$, where the spherical harmonic $Y_{J.M_J}(\\theta,\\phi)$ is an eigenfunction of $\\hat{J}^2(\\theta,\\phi)$ with eigenvalue $J(J+1)\\hbar^2$. Inserting this form of the wave function into the Schrödinger equation yields\n",
    "an equation that only depends on the variable $R$\n",
    "\n",
    "\\begin{equation}\n",
    "\\left( - \\frac{\\hbar^2}{2\\mu} \\frac{1}{R^2}\\frac{d}{ dR} R^2 \\frac{d}{dR} + \\frac{J(J+1)\\hbar^2 }{2\\mu R^2} + V^{BO}(R) \\right) \\psi^{vib}(R) = E_{int}\\psi^{vib}(R)\n",
    "\\end{equation}\n",
    "\n",
    "We can simplify the above expression by defining the function $\\psi^{vib}(R) = \\frac{\\chi(R)}{R}$ and inserting it into the above equation to give (after some differentiation)\n",
    "\\begin{equation}\n",
    "\\left( - \\frac{\\hbar^2}{2\\mu} \\frac{d^2}{dR^2} + \\frac{J(J+1)\\hbar^2 }{2\\mu R^2} + V^{BO}(R) \\right) \\chi(R) = E_{int}\\chi(R)\n",
    "\\end{equation}\n",
    "\n",
    "Notice that the last two terms inside the brackets define an effective potential that only depends on the internuclear separation $R$\n",
    "\n",
    "\\begin{equation}\n",
    "V^{eff}(R) = V^{rot}(R) + V^{BO}(R) = \\frac{J(J+1)\\hbar^2}{2\\mu R^2} + V^{BO}(R)\n",
    "\\end{equation}\n",
    "\n",
    "while the first term represents the vibrational kinetic energy operator\n",
    "\n",
    "\\begin{equation}\n",
    "\\hat{T}^{vib} = - \\frac{\\hbar^2}{2\\mu} \\frac{d^2}{dR^2}.\n",
    "\\end{equation}\n",
    "\n",
    "Using these definitions, the vibrational Schrödinger equation is\n",
    "\n",
    "\\begin{equation}\n",
    "\\left( \\hat{T}^{vib} + V^{eff}(R) \\right) \\chi(R) = E_{int}\\chi(R)\n",
    "\\end{equation}\n",
    "\n",
    "The eigenvalues $E_{int}$ represent the rovibrational energy levels of a diatomic molecule and the R-dependent part of the vibrational wave function is obtained as $\\psi^{vib}(R) = \\chi(R)/R$."
   ]
  },
  {
   "cell_type": "markdown",
   "id": "940b2455-f010-490f-a04e-d3a22200e21e",
   "metadata": {},
   "source": [
    "## 2. The vibrational Schrödinger equation for a diatomic molecule"
   ]
  },
  {
   "cell_type": "markdown",
   "id": "297994f9-52b5-46fa-95ea-1434d6eaef10",
   "metadata": {},
   "source": [
    "**INTRODUCTION**\n",
    "\n",
    "To calculate the rovibrational energy levels of a diatomic molecule ($A-B$), we want to solve the problem of two nuclei $A$ and $B$ moving in the Born-Oppenheimer potential $V^{BO}(R)$ that only depends on the internuclear separation $R$. For a molecule in a totally symmetric $^{1}\\Sigma$ electronic state (no spin or orbital angular momentum), the Hamiltonian is given by\n",
    "\n",
    "\\begin{equation*}\n",
    "\\hat{H} = \\hat{T}^{vib} + \\hat{V}^{eff}(R),\n",
    "\\tag{2.1}\n",
    "\\end{equation*}\n",
    "\n",
    "and we want to solve the vibrational Schrödinger equation \n",
    "\n",
    "\\begin{equation}\n",
    "\\hat{H}\\chi_{n,J} = E_{n,J}\\chi_{nJ},\n",
    "\\end{equation}\n",
    "where $n=0,1,...$ and $J=0,1,... $ are the vibrational and rotational quantum numbers, respectively. For the remainder of this discussion, we will use atomic units ($\\hbar = m_e = e = a_0 = E_h = 4\\pi\\epsilon_0 = 1$).\n",
    "\n",
    "The vibrational kinetic energy operator is\n",
    "\n",
    "\\begin{equation} \n",
    "\\hat{T}^{\\rm vib} = -\\frac{1}{2\\mu}\\frac{d^2}{d R^2},\n",
    "\\end{equation}\n",
    "\n",
    "where $\\mu$ is the reduced reduced mass in atomic units, and the effective potential consists of two terms\n",
    "\n",
    "\\begin{equation}\n",
    "\\hat{V}^{eff}(R) = V^{ BO}(R) + V^{rot} (R)\n",
    "\\end{equation}\n",
    "\n",
    "The potential energy curve, $V^{BO}(R)$, is obtained by solving the electronic Schrödinger equation and accounts for the kinetic and potential energy (electron-electron repulsion and nucleus-electron attraction) of the electrons as well as the Coulomb repulsion between the nuclei. The second term\n",
    "\n",
    "\\begin{equation}\n",
    "V^{rot}(R) = \\frac{J(J+1)}{\\mu R^2}\n",
    "\\end{equation}\n",
    "\n",
    "describes the contribution of rotational motion to the effective potential.\n"
   ]
  },
  {
   "cell_type": "markdown",
   "id": "4204e5fe-711a-48fc-8241-11a23b20918d",
   "metadata": {},
   "source": [
    "## 3. Solution of the vibrational Schrödinger equation in the sinc-DVR basis"
   ]
  },
  {
   "cell_type": "markdown",
   "id": "26c7ef86-22ab-4b8d-a954-565a5db8b089",
   "metadata": {},
   "source": [
    "A particularly useful method for solving the rovibrational Schrödinger equation is the so called sinc discrete variable representation (sinc DVR,for short) method[1]. In this method, the coordinate $R$ is restricted to $R_{min} \\leq R \\leq R_{max}$ and is discretized on a grid of $N$ uniformly-spaced points \n",
    "\n",
    "\\begin{equation}\n",
    "R_i = R_{min} + i\\cdot \\Delta R \\hspace{2cm} \\Delta R = \\frac{ R_{max} - R_{min} }{N-1} \\hspace{2cm} 0 \\leq i \\leq N-1 \\hspace{2mm}.\n",
    "\\end{equation}\n",
    "\n",
    "With each grid point $i$, there is an associated sinc function $s_i(R)$\n",
    "\n",
    "\\begin{equation}\n",
    "s_i(R) = \\frac{{\\rm sin}\\left( \\frac{\\pi(R-R_i)}{\\Delta R} \\right) }{\\frac{\\pi(R-R_i)}{\\Delta R}}\n",
    "\\end{equation}\n",
    "\n",
    "The sinc functions have several useful properties; of particular interest are the following two observations: 1) the sinc function is \"normalized\" in the sense that $s_i(R_i)=1$ and 2) that the value of the sinc function vanishes at all other grid points (i.e. $s_i(R_j) = 0$ for $j\\neq i$). Using the sinc functions we can expand $\\chi(R) = \\sum_{i=0}^{N-1} c_i s_i(R)$  and show that \n",
    "\n",
    "\\begin{equation}\n",
    "\\chi(R_k) = \\sum_{i=0}^{N-1} c_i s_i(R_k) = c_k s_k(R_k) = c_k, \n",
    "\\end{equation}\n",
    "\n",
    "where the second equality results from property 2 above, while the last result is obtained by using property 1. In other words, the value of the solution $\\chi$ at the grid point $k$ is equal to the value of the expansion coefficient $c_k$.\n",
    "\n",
    "Since the rovibrational Hamiltonian is the sum of two operators (as in Eq. (2.1)), the Hamiltonian matrix is the sum of two matrices (${\\bf H} = {\\bf T}^{vib} + {\\bf V}^{eff}$) with elements\n",
    "\n",
    "\\begin{equation}\n",
    "H_{i,j} = T^{vib}_{i,j} + V^{eff}_{i,j} ,\n",
    "\\tag{3.1}\n",
    "\\end{equation}\n",
    "\n",
    "where $i$ and $j$ represent grid points, $0\\leq i \\leq N-1$, and $0\\leq j \\leq N-1$. The sinc DVR method is particularly advantageous because the Hamiltonian matrix elements can be easily calculated without integration. The kinetic energy matrix elements are given by [1]\n",
    "\n",
    "\\begin{equation}\n",
    "T^{vib}_{i,j} = \\begin{cases}\n",
    " \\frac{1}{2\\mu\\Delta R^2}\\left( \\frac{\\pi^2}{3} - \\frac{1}{2(i+1)^2} \\right)\\hspace{2.0cm} i = j\\\\\n",
    " \\\\\n",
    " \\frac{(-1)^{(i-j)}}{\\mu\\Delta R^2} \\left( \\frac{1}{(i-j)^2}-\\frac{1}{(i+j+2)^2}\\right)\\hspace{1cm} i \\neq j\\\\\n",
    "\\end{cases} \\tag{3.2}\n",
    "\\end{equation}  \n",
    "\n",
    "Furthermore, the matrix representation of any operator that only depends on $R$ is diagonal. For example, the matrix elements of the effective potential are given by\n",
    "\n",
    "\\begin{equation}\n",
    "V_{i,j}^{eff} = \\begin{cases}\n",
    " V^{BO}(R_i) + \\frac{J(J+1)}{2\\mu R_i^2} \\hspace{2.0cm} i = j\\\\\n",
    " \\\\\n",
    " 0\\hspace{5.1cm} i \\neq j\\\\\n",
    "\\end{cases} \\tag{3.3}\n",
    "\\end{equation} \n",
    "\n",
    "Once the Hamiltonian matrix is constructed, solutions to the matrix form of the Schrödinger equation \n",
    "\\begin{equation} \n",
    "{\\bf H} {\\bf c} = E {\\bf c}\n",
    "\\end{equation}\n",
    "are obtained by diagonalizing the Hamiltonian matrix. Unless $J=0$, the effective potential contains contributions due to rotations (note the $J$-dependence in Eq. (3.3)), and the eigenvalues correspond to energies of rovibrational levels (e.g. the lowest eigenvalue of the Hamiltonian matrix with $J=1$ would correspond to $E_{0,1}$). For a given eigenvalue $E$, the vector ${\\bf c}$ contains the expansion coefficients of $\\chi_{n,J}(R)$. Because $\\psi^{vib}_{n,J}(R) = \\frac{\\chi_{n,J}(R)}{R}$ and $\\chi_{n,J}(R) = \\sum_{i=0}^{N-1} c_is_i(R)$, the value of the vibrational wave function at grid point $k$ is given by\n",
    "\n",
    "\\begin{equation}\n",
    "\\psi_{n,J}^{vib}(R_k) = \\frac{\\chi_{n,J}(R_k)}{R_k} = \\frac{c_k}{R_k}.\n",
    "\\end{equation}\n",
    "\n",
    "As a result, even though the eigenvectors of $\\bf H$ are normalized (i.e. $\\sum_{k=0}^{N-1} \\vert c_k \\vert^2 = 1$), $\\psi_{n,J}^{vib}(R)$ above is not! To rectify this, we define the normalized vibrational wave function as\n",
    "\n",
    "\\begin{equation}\n",
    "\\psi^{vib}_{n,J}(R_k) = \\frac{1}{\\sqrt{I_N}}\\frac{c_k}{R_k},\n",
    "\\tag{3.4}\n",
    "\\end{equation}\n",
    "where $I_N$ is the normalization factor. Recalling that the volume element is $R^2{\\rm d}R$ and using the rectangle approximation for evaluating the integral, we can show that $I_N = \\Delta R$ regardless of which energy level the wave function corresponds to\n",
    "\\begin{equation}\n",
    "I_N = \\int_{R_{min}}^{R_{max}} \\left(\\psi_{n,J}^{vib}(R)\\right)^*\\psi_{n,J}^{vib}(R) R^2{\\rm d}R = \\sum_{k=0}^{N-1} \\left(\\psi_{n,J}^{vib}(R_k)\\right)^*\\psi_{n,J}^{vib}(R_k) R_k^2{\\rm d}R = \\Delta R \\sum_{k=0}^{N-1} \\left(\\frac{c_k}{R_k}\\right)^* \\frac{c_k}{R_k} R_k^2 {\\rm d}R = \\Delta R \\sum_{k=0}^{N-1} \\vert c_k \\vert^2 = \\Delta R.\n",
    "\\end{equation}\n",
    "\n",
    "**References**\n",
    "\n",
    "> [1] D. T. Colbert and W. H. Miller, J. Chem. Phys. **96**, 1982 (1992)"
   ]
  },
  {
   "cell_type": "markdown",
   "id": "d1fa8d37-a89d-4131-9265-4fc617f217a0",
   "metadata": {},
   "source": [
    "## 4. Relative intensities for rovibrational transitions of a diatomic molecule"
   ]
  },
  {
   "cell_type": "markdown",
   "id": "4eaf4eb3-dfdd-4302-bc77-376f99ebb2f9",
   "metadata": {},
   "source": [
    "Consider the rovibrational transition from an initial level with quantum numbers $(n_i,J_i)$ to a final level with quantum numbers $(n_f,J_f)$. The relative intensity of an absorption line is proportional to the thermal population of the initial level the square of the transition dipole moment and is given by\n",
    "\n",
    "\\begin{equation}\n",
    "I^{rel}_{n_i \\rightarrow n_f, J_i \\rightarrow J_f}  = \\frac{I_{n_i \\rightarrow n_f, J_i \\rightarrow J_f}}{I_{max}} \\propto \\frac{P_{n_i,J_i} \\cdot \\left( \\langle \\mu \\rangle_{n_i \\rightarrow n_f , J_i \\rightarrow J_f} \\right)^2}{I_{max}} .\n",
    "\\tag{4.1}\n",
    "\\end{equation}\n",
    "\n",
    "where $I_{max}$ is the intensity of the most intense absorption line.\n",
    "\n",
    "The thermal population of rovibrational levels is governed by the Boltzmann distribution\n",
    "\n",
    "\\begin{equation}\n",
    "P_{n,J} = (2J+1)e^{- \\left( \\frac{\\tilde{E}_{n,J}hc}{k_BT} \\right) },\n",
    "\\tag{4.2}\n",
    "\\end{equation}\n",
    "\n",
    "where the speed of light is expressed in cm$\\cdot$s$^{-1}$, and $\\tilde{E}_{n,J}$ is expressed in wavenumbers.\n",
    "\n",
    "The transition dipole moment for a rovibrational transition is given by the integral\n",
    "\n",
    "\\begin{equation}\n",
    "\\langle \\mu \\rangle_{n_i \\rightarrow n_f, J_i \\rightarrow J_f} = \\int_{0}^{\\infty} \\left(\\psi^{vib}_{n_f,J_f}(R) \\right)^*\\cdot \\mu_{{\\rm el}}(R)\\cdot \\psi^{vib}_{n_i,J_i}(R) R^2{\\rm d}R,\n",
    "\\end{equation}\n",
    "\n",
    "where $\\mu_{\\rm el}(R)$ is the electronic dipole moment as a function of the internuclear separation $R$, and $\\psi_{J_i,n_i}(R)$ and $\\psi_{J_f,n_f}(R)$ are the $normalized$ solutions to the vibrational Schrödinger equation. Using the rectangular approximation for the integral the above integral and the result of Eq. (5), the transition dipole moment is given by\n",
    "\n",
    "\\begin{equation}\n",
    "\\langle \\mu \\rangle_{n_i \\rightarrow n_f, J_i \\rightarrow J_f} = \\sum_{k=0}^{N-1} c_{k; n_f,J_f} \\cdot \\mu_{\\rm el} (R_k) \\cdot c_{k;n_i,J_i} ,\n",
    "\\tag{4.3}\n",
    "\\end{equation}\n",
    "\n",
    "where $\\mu_{\\rm el}(R_k)$ is the value of the electronic dipole moment at grid point $k$, $c_{k;n_f,J_f}$ is the $k^{\\rm th}$ element of the eigenvector for the final level with eigenvalue $E_{n_f,J_f}$, and $c_{k;n_i,J_i}$ is the $k^{\\rm th}$ element of the eigenvector for the initial level with eigenvalue $E_{n_i,J_i}$. Note that if the functional form of the electronic dipole moment is not known, we can approximate it by its Taylor series expansion about $R_e$ as $\\mu_{\\rm el}(R) = \\mu_{\\rm el}(R_e) + \\mu^\\prime_{\\rm el}(R_e) ( R - R_e ) + ...$, where $\\mu^\\prime_{\\rm el}$ is the derivative of the electronic dipole moment at the equiolibrium bond length $R_e$. Using the fact that the $\\{ \\psi^{vib}_{n,J}(R)\\}$ are orthogonal, the transition dipole moment is given by\n",
    "\n",
    "\\begin{equation}\n",
    "\\langle \\mu \\rangle_{n_i \\rightarrow n_f, J_i \\rightarrow J_f} = \\mu^\\prime_{\\rm el}(R_e) \\sum_{k=0}^{N-1} c_{k; n_f,J_f} \\cdot (R - R_e) \\cdot c_{k;n_i,J_i} .\n",
    "\\tag{4.4}\n",
    "\\end{equation}\n",
    "Note that if only relative intensities are to be computed, the value of $\\mu^\\prime_{\\rm el}(R_e)$ is not required (see Eq. 4.1)."
   ]
  },
  {
   "cell_type": "markdown",
   "id": "04df2a82-61a7-4480-9d9f-5691da63023d",
   "metadata": {
    "jp-MarkdownHeadingCollapsed": true
   },
   "source": [
    "# Overview of the code and description of parameters"
   ]
  },
  {
   "cell_type": "markdown",
   "id": "2fa6a3ca-46f8-47e6-aeba-ed607a037565",
   "metadata": {
    "jp-MarkdownHeadingCollapsed": true
   },
   "source": [
    "## Overview of the code"
   ]
  },
  {
   "cell_type": "markdown",
   "id": "4e8a027e-d158-441d-a358-421c1d351197",
   "metadata": {},
   "source": [
    "To simulate the IR spectrum of a diatomic, the Python code below calculates and saves the energies $E_{n,J}$ and vibrational wave functions $\\psi_{n,J}(R)$ by solving the vibrational Schrödinger equation in the sinc-DVR basis for all those states with $0 \\leq n \\leq n_{max}$ and $0\\leq J \\leq J_{max}$. Here $n_{max}$ and $J_{max}$ denote the maximum value of the vibrational and rotational quantum numbers, respectively. To accomplish this the code performs the steps outlined in the diagram below. For more details, please see [section 3](#3.-solution-of-the-vibrational-schrödinger=equation-in-the-sinc-dvr-basis). After computing the rovibrational energy levels, the line positions and relative intensities in the $P$ and $R$  branches of the fundamental ($n_i=0 \\rightarrow n_f = 1$) and first overtone ($n_i=0 \\rightarrow n_f = 2$) vibrational transitions are calculated as described in [section 4](#4.-relative-intensities-for-rovibrational-transitions-of-a-diatomic-molecule). \n",
    "\n",
    "<img src=\"https://github.com/act-cms/lesson-04-diatomic-molecule-ir-spectrum-analysis/blob/main/sinc-DVR-workflow-diagram.jpg?raw=true\" style=\"display: block; margin: 0 auto; max-height:600px;\">\n",
    "\n",
    "The section below describes the input parameters for the calculation. If you are interested in the specific implementaiton of each task, please see the Python functions in the code."
   ]
  },
  {
   "cell_type": "markdown",
   "id": "cd7cc42c-64c1-4da8-b5fd-d84483d768f0",
   "metadata": {},
   "source": [
    "## Description of input parameters and output description"
   ]
  },
  {
   "cell_type": "markdown",
   "id": "93924053-fff8-4945-b90a-44704466e74d",
   "metadata": {},
   "source": [
    "__INPUT PARAMETERS__\n",
    "\n",
    " - **PES_fname_** (string, default: 'hcl-PES'):\n",
    "\n",
    "File name of the input file that contains the Born-Oppenheimer potential curve for the molecule. Currently, only '.txt' and '.csv' file extensions are supported. The first column in the file should contain the internuclear separation in units of ${\\mathring{\\rm{A}}}$ and the second column contains the value of the Born-Oppenhheimer potential un Hartree. If the file name does not include the path, this file must reside in the same directory/folder as the Jupyter notebook. To read the file from a different directory than this Jupyter notebook, include the path in the file name.\n",
    "\n",
    "- **save_spectra_** (integer, default: 1):\n",
    "\n",
    "Flag to specify whether or not the line positions in the fundamental and fisrt overtone spectra are save. Set to **1** means to save the spectra and set to **0** if you do not want to save the spectra. \n",
    "\n",
    "- **fund_fname_** (string, default: 'fundamental-lines.txt'):\n",
    "\n",
    "File name of the output file to save the line positions for the fundamental spectrum. The output is a human-readable '.txt' file; the first column contains the variable $m$ and the second column contains the line position in cm$^{-1}$. For the $P$ branch the variable $m=-J$, where $J$ is the rotational quantum number of the initial level. For the $R$ branch, $m=J+1$, where $J$ is the rotational quantum number of the initial level. If the file name does not include the path, the file will be saved in the same directory/folder as the Jupyter notebook. To save in a different directory than this Jupyter notebook, include the path in the file name. \n",
    "\n",
    "- **over_fname_** (string, default: 'overtone-lines.txt'):\n",
    "\n",
    "File name of the output file to save the line positions for the first overtone spectrum. The output is a human-readable '.txt' file; the first column contains the variable $m$ and the second column contains the line position in cm$^{-1}$. For the $P$ branch the variable $m=-J$, where $J$ is the rotational quantum number of the initial level. For the $R$ branch, $m=J+1$, where $J$ is the rotational quantum number of the initial level. If the file name does not include the path, the file will be saved in the same directory/folder as the Jupyter notebook. To save in a different directory than this Jupyter notebook, include the path in the file name.\n",
    "\n",
    "- **m1_**: (float, default: 1.00783)\n",
    "\n",
    "Molar mass of one of the atoms in the diatomic molecule in units of g$\\cdot$mol$^{-1}$.\n",
    "\n",
    "- **m2_**: (float, default: )\n",
    "\n",
    "Molar mass of other atom in the diatomic molecule in units of g$\\cdot$mol$^{-1}$.\n",
    "\n",
    "- **N_**: (integer, default: 200)\n",
    "\n",
    "Number of DVR grid points to use in the calculation. The number of grid points should be equal to or greater than the number of internuclear separations at which the Born-Oppenheimer potential is evaluated. Although more grid points generally better reults, the computational cost of the diagonalization increases as the third power of the grid points, so larger values can lead to significantly longer calculations. The default of 200 is reasonable.\n",
    "\n",
    "- **R_min_**: (float, default: 0.5)\n",
    "\n",
    "Shortest intenuclear separation on the DVR grid in ${\\mathring{\\rm{A}}}$. This value should not be smaller than the smallest internuclear separation at which the Born-Oppenheimer potential is evaluated.\n",
    "\n",
    "- **R_max_**: (float, default: 2.0)\n",
    "\n",
    "Largest intenuclear separation on the DVR grid in ${\\mathring{\\rm{A}}}$. This value should not be greater than the largest internuclear separation at which the Born-Oppenheimer potential is evaluated.\n",
    "\n",
    "- **J_max_**: (integer, default: 10)\n",
    "\n",
    "Maximum rotational quantum number for which the energies $E_{n,J}$ are saved. The value should not be smaller than 1. The deafault is 10. \n",
    "\n",
    "- **n_max_**: (integer, default: 5)\n",
    "\n",
    "Maximum vibrational quantum number for which the energies $E_{n,J}$ are saved. The value should not be smaller than 2. Thee default is 5.\n",
    "\n",
    "- **T_**: (float, default: 298.15)\n",
    "\n",
    "Temperature of sample in K.\n",
    "\n",
    "- **peak_broadening_factor_**: (float, default: 1.0)\n",
    "\n",
    "Determines the line width in th simulated spectra. The line shape of each transition is assumed to be Lorentzian and this value determines the full width at half maximum of each peak.\n",
    "\n",
    "- **plot_potential_fit_**: (integer, default: 1)\n",
    "\n",
    "Flag to specify whether or not to plot the fitted potential. If set to **1** the input potential and the potential on the grid are plotted; this may be good to trouble shoot cases when the results appear erroneous. Setting the variable to **0** skips plotting.\n",
    "\n",
    "- **plot_spectrum_**: (integer, default: 1)\n",
    "\n",
    "Flag to specify whether or not to plot the simulated fundamental and first overtone spectra. Setting the variable to **1** will result in the spectra being plotted while **0** will skip plotting."
   ]
  },
  {
   "cell_type": "markdown",
   "id": "8b5793e6-4070-4926-a7a4-e9adfc403da1",
   "metadata": {},
   "source": [
    "# <span style=\"color:green\"> Input variables </span>"
   ]
  },
  {
   "cell_type": "code",
   "execution_count": 1,
   "id": "7b96e623-18ca-4743-80a9-712c6036466a",
   "metadata": {},
   "outputs": [],
   "source": [
    "# input file name with potential data\n",
    "\n",
    "PES_fname_              = 'hcl-ccpVTZ-RHF-pes.txt'                             # name of input file that contains the Born-Oppenheimer potential curve\n",
    "\n",
    "# output file name with line positions in the fundmental and first overtone spectrum\n",
    "\n",
    "save_spectra_           = 0                                         # 1 = save spectra ; 0 = do not save spectra\n",
    "fund_fname_             = 'dvr-fundamental-lines.txt'                         # name of output file to save spectral line positions for fundamental\n",
    "over_fname_             = 'dvr-overtone-lines.txt'                            # name of output file to save spectral lines for first overtone\n",
    "\n",
    "# parameters related to the diatomic molecule\n",
    "\n",
    "m1_                     = 1.00783                                   # mass of atom 1 (g/mol) for hydrogen\n",
    "m2_                     = 34.96885                                  # mass of atom 2 (g/mol)\n",
    "\n",
    "# parameters related to the size of the Hamiltonian and spline interpolation\n",
    "\n",
    "N_                      = 200                                       # number of DVR points to use\n",
    "R_min_                  = 0.50                                      # smallest internuclear separation for fitted potential (Angstrom)\n",
    "R_max_                  = 2.0                                       # lasrgest internuclear separation for fitted potential (Angstrom)\n",
    "\n",
    "# parameters related to what energy levels to calculate and simulation of rovibrational spectrum\n",
    "\n",
    "J_max_                  = 10                                        # maximum value of the rotational quantum number (levels 0 <= J <= J_max are calculated & stored)\n",
    "n_max_                  = 5                                         # maximum value for the vibrational quantum number (levels 0 <= n <= n_max are calculated & stored)\n",
    "T_                      = 298.15                                    # temperature of sample to use when evaluating relative intensities (K)\n",
    "peak_broadening_factor_ = 1.0                                       # line broadening factor (cm**-1)\n",
    "\n",
    "# parameters related to plotting\n",
    "\n",
    "plot_potential_fit_     = 1                                         # 0 - do not plot the potential / 1 - plot potential\n",
    "plot_spectrum_          = 1                                         # 0 - do not plot IR psectrum / 1 - plot IR spectrum "
   ]
  },
  {
   "cell_type": "markdown",
   "id": "900a8c71-db93-4cb1-b71c-f4dc8b75c271",
   "metadata": {},
   "source": [
    "# <span style=\"color:red\"> Python code (take a look if you are interested in what is under the hood, but change the code at your own risk)"
   ]
  },
  {
   "cell_type": "markdown",
   "id": "213e4e8d-c21d-4e7f-995f-18e93546ab5f",
   "metadata": {},
   "source": [
    "## Load libraries"
   ]
  },
  {
   "cell_type": "code",
   "execution_count": 2,
   "id": "342ce679-9c90-47cd-b768-975291533f24",
   "metadata": {},
   "outputs": [],
   "source": [
    "import csv\n",
    "import os\n",
    "import numpy as np\n",
    "import scipy as sp\n",
    "import matplotlib.pyplot as plt\n",
    "import scipy.constants as spconst"
   ]
  },
  {
   "cell_type": "markdown",
   "id": "7dfe9d5c-7737-4a39-a56a-0a00da46c8c0",
   "metadata": {},
   "source": [
    "## Function definitions"
   ]
  },
  {
   "cell_type": "markdown",
   "id": "30c034ff-008e-45b1-9b6b-770f065a7516",
   "metadata": {},
   "source": [
    "The function below reads in the Born-Oppenheimer potential from a file. It is assumed that the first column in the file contains values of the internuclear separation $R$, the second column contains the electronic energy (electronic + nuclear repulsion). If available, the thrid column contains the values of the dipole moment. \n",
    "\n",
    "Upon return, the potential is shifted such that ${\\rm min}\\left[ V(R) \\right] = 0.0$. "
   ]
  },
  {
   "cell_type": "code",
   "execution_count": 3,
   "id": "f0aa95cd-be0b-49cb-b878-327c2a04b057",
   "metadata": {},
   "outputs": [],
   "source": [
    "def read_potential(f_name):\n",
    "\n",
    "    '''\n",
    "    function mu_given , R_read , V_read , mu_read = read_potential(f_name) reads in the potential\n",
    "    \n",
    "    INPUT:\n",
    "        f_name:    name of input file (extension must be either '.txt' or '.csv' \n",
    "    OUTPUT:\n",
    "        mu_given:  integer, 1 = dipole data given in data file, 0 = dipole data was not given in data file (hence the dipole array is populated with values of R, the internuclear separation \n",
    "        R_read[]:  float array, stores the radii\n",
    "        V_read[]:  float array, stores shifted the energies such that min(V_read) = 0\n",
    "        mu_read[]: float array, stores molecular dipole\n",
    "    '''\n",
    "\n",
    "    mu_given = 0\n",
    "    R_read   = []\n",
    "    V_read   = []\n",
    "    mu_read  = []\n",
    "\n",
    "    # check to see if file exists\n",
    "    if ( os.path.exists( f_name ) == False ):\n",
    "\n",
    "        print(f'!!!! ERROR !!!! --- the file {f_name:s} does not exist')\n",
    "\n",
    "        return mu_given, R_read , V_read , mu_read\n",
    "\n",
    "    # determine file type ('.txt' or .csv')\n",
    "    file_root, file_extension = os.path.splitext(f_name)    \n",
    "\n",
    "    # the file is a text file\n",
    "    if ( file_extension == '.txt'):\n",
    "\n",
    "        with open(f_name) as f:\n",
    "        \n",
    "            line = f.readline()\n",
    "            \n",
    "            while (line):\n",
    "\n",
    "                row = line.split()\n",
    "            \n",
    "                R_read.append(float(row[0]))\n",
    "                V_read.append(float(row[1]))\n",
    "\n",
    "                if ( len( row ) == 3 ):\n",
    "                    mu_given = 1\n",
    "                    mu_read.append( float( row[2] ) )\n",
    "                else:\n",
    "                    mu_read.append( float( row[0]) )\n",
    "\n",
    "                line = f.readline()\n",
    "     \n",
    "    # the file is a csv file\n",
    "    elif ( file_extension == '.csv' ):\n",
    "    \n",
    "        with open(f_name, 'r') as csvfile:\n",
    "\n",
    "            csv_reader = csv.reader(csvfile)\n",
    "\n",
    "            for row in csv_reader:\n",
    "                \n",
    "                R_read.append(float(row[0]))\n",
    "                V_read.append(float(row[1]))\n",
    "\n",
    "                if ( len( row ) == 3 ):\n",
    "                    mu_given = 1\n",
    "                    mu_read.append( float( row[2] ) )\n",
    "                else:\n",
    "                    mu_read.append( float( row[0] ) )\n",
    "\n",
    "    else:\n",
    "\n",
    "        # unknown file type\n",
    "        print(f'!!!! ERROR !!!! --- the file extension {file_extension:s} is not supported')\n",
    "\n",
    "    V_read -= np.min(V_read)\n",
    "    \n",
    "    return mu_given,R_read,V_read,mu_read"
   ]
  },
  {
   "cell_type": "markdown",
   "id": "b86bc2b3-2864-4179-bc98-bf7ab0218a47",
   "metadata": {},
   "source": [
    "Fucntion to convert units from atomic units to other units or the reverse. "
   ]
  },
  {
   "cell_type": "code",
   "execution_count": 4,
   "id": "125adba0-2f39-408c-b160-257580be819d",
   "metadata": {},
   "outputs": [],
   "source": [
    "def convert_units(number,conversion):\n",
    "\n",
    "    '''    \n",
    "    function number = convert_units(values,conversion) converts units\n",
    "    \n",
    "    INPUT:\n",
    "        number               : float, value(s) to be converted\n",
    "        conversion           : str, direction of conversion \n",
    "        SUPPORTED CONVERSIONS: 'au2ang', 'ang2au','au2m','m2au','au2kcalPmol',kcalPmol2au','au2invcm','invcm2au','au2J','J2au')\n",
    "    OUTPUT:\n",
    "        number               : float, converted value(s)\n",
    "    '''\n",
    "\n",
    "    fac = -1.0\n",
    "\n",
    "    au2ang       = spconst.physical_constants['Bohr radius'][0]*1e10\n",
    "    au2kcalPmol  = spconst.physical_constants['hartree-joule relationship'][0]*spconst.N_A*1e-3/4.184 \n",
    "    au2invcm     = spconst.physical_constants['hartree-inverse meter relationship'][0]*1e-2 \n",
    "    au2J         = spconst.physical_constants['hartree-joule relationship'][0] \n",
    "    au2gPmol     = 1e3 * ( spconst.N_A * spconst.m_e )\n",
    "\n",
    "    if ( conversion == 'au2ang'      ): fac = au2ang\n",
    "    if ( conversion == 'ang2au'      ): fac = 1.0 / au2ang\n",
    "    if ( conversion == 'au2m'        ): fac = au2ang * 1e-10\n",
    "    if ( conversion == 'm2au'        ): fac = 1.0 / au2ang * 1e10\n",
    "    if ( conversion == 'au2kcalPmol' ): fac = au2kcalPmol\n",
    "    if ( conversion == 'kcalPmol2au' ): fac = 1.0 / au2kcalPmol\n",
    "    if ( conversion == 'au2invcm'    ): fac = au2invcm\n",
    "    if ( conversion == 'invcm2au'    ): fac = 1.0 / au2invcm\n",
    "    if ( conversion == 'au2J'        ): fac = au2J\n",
    "    if ( conversion == 'J2au'        ): fac = 1/au2J\n",
    "    if ( conversion == 'au2gPmol'    ): fac = au2gPmol\n",
    "    if ( conversion == 'gPmol2au'    ): fac = 1.0 / au2gPmol\n",
    "\n",
    "    if ( fac < 0.0 ):\n",
    "        print(F'Unknown conversion direction {conversion} ... conversion not performed')\n",
    "\n",
    "    else:\n",
    "\n",
    "        number *= fac\n",
    "\n",
    "    return number\n"
   ]
  },
  {
   "cell_type": "markdown",
   "id": "45b1abce-1b41-4f77-85e9-a848c5c7888a",
   "metadata": {},
   "source": [
    "Function to convert units for an array."
   ]
  },
  {
   "cell_type": "code",
   "execution_count": 5,
   "id": "5a7172ad-930e-44b4-a202-504bdb0d622d",
   "metadata": {},
   "outputs": [],
   "source": [
    "def convert_values(values,conversion):\n",
    "\n",
    "    '''\n",
    "    \n",
    "    function values = convert_distance(values,conversion) converts units\n",
    "    \n",
    "    INPUT:\n",
    "        values[]             : float array, value(s) to be converted\n",
    "        conversion           : str, direction of conversion \n",
    "        SUPPORTED CONVERSIONS: 'au2ang', 'ang2au','au2m','m2au','au2kcalPmol',kcalPmol2au','au2invcm','invcm2au','au2J','J2au')\n",
    "    OUTPUT:\n",
    "        values[]             : float, converted value(s)\n",
    "    '''\n",
    "\n",
    "    for i in range ( len(values) ):\n",
    "        values[i] = convert_units(values[i], conversion)\n",
    "            \n",
    "    return values"
   ]
  },
  {
   "cell_type": "markdown",
   "id": "6690db9b-c6d2-4303-a2ba-37e556e04655",
   "metadata": {},
   "source": [
    "Function to calculate the reduced mass"
   ]
  },
  {
   "cell_type": "code",
   "execution_count": 6,
   "id": "564bb3a0-046f-4dab-b01c-bf82fa2dd544",
   "metadata": {},
   "outputs": [],
   "source": [
    "def compute_mu(m1, m2):\n",
    "\n",
    "    '''\n",
    "    function mu = compute_mu(m1,m2) calculates the reduced mass mu = m1 * m2 /  ( m1 + m2 )\n",
    "    \n",
    "    INPUT:\n",
    "        m1: float, mass 1\n",
    "        m2: float, mass 2\n",
    "    OUTPUT:\n",
    "        mu: float, reduced mass\n",
    "    '''\n",
    "\n",
    "    return  m1 * m2 / ( m1 + m2 )"
   ]
  },
  {
   "cell_type": "markdown",
   "id": "f062d8ec-0841-4c15-b626-257b5588e764",
   "metadata": {},
   "source": [
    "Function to interpolate the potential using cubic splines. Upon return, ${\\rm min}\\left[ V_{interpolated}(R) \\right] = 0$."
   ]
  },
  {
   "cell_type": "code",
   "execution_count": 7,
   "id": "634d57ad-1aab-4bf6-9a65-1a97f16957d5",
   "metadata": {},
   "outputs": [],
   "source": [
    "def spline_potential( R_in , V_in , R_min , R_max , N , plot_fit):\n",
    "\n",
    "    ''' \n",
    "    function R_out,V_out = psline_potential(R_in,V_in,R_min,R_max,N,R_out,V_out) computes the cubic spline interpolation of the input potential\n",
    "\n",
    "    INPUT:\n",
    "        R_in[]:   float array, internuclear distance values\n",
    "        V_in[]:   float array, potential energy values OR electronic dipole moment values\n",
    "        R_min:    float, smallest internuclear distance \n",
    "        R_max:    float, largest internuclear distance\n",
    "        N:        integer, number of interpolated values\n",
    "        plot_fit: integer, 1 = plot fit, 0 = do not plot firt \n",
    "    OUTPUT:\n",
    "        R_out[]: float array, internuclear distances for fitted potential\n",
    "        V_out[]: float array, potential energy (or electronic dipole) values for interpolated potential (shifted so that min(V_fit) = 0\n",
    "    '''\n",
    "\n",
    "    if ( R_in[0] > R_min ):\n",
    "\n",
    "        print(F'!!! WARNING !!! ... Cubic spline with R_min_in = {R_in[0]:5.2f} > R_min_out = {R_min:5.2f} is not a good idea ... CHECK THE SPLINE FIT')\n",
    "\n",
    "    if ( R_in[len(R_in) -1 ] < R_max ):\n",
    "\n",
    "        print(F'!!! WARNING !!! ... Cubic spline with R_min_in = {R_in[len(R_in)-1]:5.2f} < R_max_out = {R_max:5.2f} is not a good idea ... CHECK THE SPLINE FIT')\n",
    "    \n",
    "    \n",
    "    spline_function = sp.interpolate.CubicSpline(R_in,V_in,bc_type='natural')\n",
    "\n",
    "    R_out = []\n",
    "    V_out = []\n",
    "\n",
    "    dR = ( R_max - R_min ) / float( N - 1 ) \n",
    "    \n",
    "    R_val = R_min\n",
    "    \n",
    "    for i in range(N):\n",
    "    \n",
    "        R_out.append(R_val)\n",
    "\n",
    "        R_val += dR\n",
    "    \n",
    "    V_out = spline_function(R_out)\n",
    "\n",
    "    V_out -= np.min(V_out)\n",
    "\n",
    "    if ( plot_fit == 1):\n",
    "        \n",
    "        plt.plot(R_in , V_in , 'r+' , R_out , V_out , 'b-' )\n",
    "        plt.legend(['Born-Oppenheimer','cubic spline interpolation'])\n",
    "        plt.xlabel('R / au ')\n",
    "        plt.ylabel('V(R) / au')\n",
    "        plt.ylim([ 0.0 , V_out[N - 1] + 0.1] )\n",
    "        plt.xlim( R_out[0] , R_out[N - 1] )\n",
    "        \n",
    "    return R_out,V_out\n",
    "        "
   ]
  },
  {
   "cell_type": "markdown",
   "id": "321d59b8-e695-49ee-adb0-c68af0e99f19",
   "metadata": {},
   "source": [
    "Function to shift values of $R$ to $R-R_e$"
   ]
  },
  {
   "cell_type": "code",
   "execution_count": 8,
   "id": "263eed24-8192-47b7-ac48-b7c391a222ff",
   "metadata": {},
   "outputs": [],
   "source": [
    "def calculate_mu_expansion( V , R ):\n",
    "\n",
    "    # number of grid points\n",
    "    N = len( V)\n",
    "\n",
    "    # initialize electronic dipol array\n",
    "    mu = np.zeros( N , dtype = float )\n",
    "    \n",
    "    # find approximate R_e on our grid\n",
    "\n",
    "    # initialize Re value\n",
    "    Re = 0.0\n",
    "    \n",
    "    # loop over grid points\n",
    "    for i in range( 1 , N ):\n",
    "\n",
    "        if ( V[ i ]  < V[ i - 1 ] ): Re = R[ i ]\n",
    "\n",
    "    # shift dipole data to R-Re\n",
    "    for i in range( N ):\n",
    "        \n",
    "        mu[i] = R[i] - Re\n",
    "\n",
    "    return mu"
   ]
  },
  {
   "cell_type": "markdown",
   "id": "15c09482-78c2-48eb-886b-fd0c2533a54e",
   "metadata": {},
   "source": [
    "Function to calculate the \"core\" Hamiltonian (i.e., the portion of the Hamiltonian that is independent of the rotational quantum number $J$) that is comprised of the kinteic energy and the contribution from the Born-Oppenheimer potential (only contributes to diagonal elements). "
   ]
  },
  {
   "cell_type": "code",
   "execution_count": 9,
   "id": "754fbdbd-d3bb-409a-804b-21fe57e2f695",
   "metadata": {},
   "outputs": [],
   "source": [
    "def compute_H_core(mu,R_fit,V_fit,H_core):\n",
    "\n",
    "    ''' \n",
    "    function H_core = compute_H_core(mu,R_fit,V_fit,H_core) computes the core matrix (unchanged throughout the process) according to\n",
    "\n",
    "    H_core[i,j] = T[i,j] + V_BO[i,j] * delta[i,j]\n",
    "\n",
    "    the B.O. potential only adds to the diagonals\n",
    "\n",
    "    INPUT:\n",
    "        mu:         float, reduced mass\n",
    "        R_fit{}:    float array, internuclear distances for fitted potential\n",
    "        V_fit[]:    float array, fitted potential energy curve\n",
    "    OUTPUT:\n",
    "        H_core[][]: float matrix, core matrix that contains the kinetics energy and rotationaless B.O. potential\n",
    "    '''\n",
    "\n",
    "    dR = R_fit[1] - R_fit[0]\n",
    "    \n",
    "    F    = 1.0 / ( 2.0 * mu * dR**2 )\n",
    "    D_F  = np.pi**2 / 3.0 * F          # factor to multiply diagonal elements by\n",
    "    OD_F = 2.0 * F                     # factor to multiply off-diagonal elements by\n",
    "    \n",
    "    for i in range( len(R_fit) ):\n",
    "\n",
    "        for j in range(i):\n",
    "\n",
    "            H_core[i,j] = OD_F * (-1)**(i-j) * ( 1.0 / float(i - j)**2 - 1.0 / float(i + j + 2)**2 )\n",
    "            H_core[j,i] = H_core[i,j]\n",
    "\n",
    "        H_core[i,i] = D_F - F / ( 2.0 * float(i + 1)**2 ) + V_fit[i]\n",
    "    \n",
    "    return H_core"
   ]
  },
  {
   "cell_type": "markdown",
   "id": "e4fdea45-d8e3-4f94-8de8-f99d83a75dcf",
   "metadata": {},
   "source": [
    "Function to compute the full Hamiltonian for a given rotational quantum number $J$ by combining the core Hamiltonian and the rotational potential $V^{ROT}(R) = \\frac{J(J+1)}{2 \\mu R^2}$."
   ]
  },
  {
   "cell_type": "code",
   "execution_count": 10,
   "id": "11e67fb0-2984-418f-b832-0207ba7e0394",
   "metadata": {},
   "outputs": [],
   "source": [
    "def add_rotational_contribution(H_core,R_fit,J,mu,H):\n",
    "\n",
    "    '''\n",
    "    function H = add_rotational_contribution(H_core,R_fit,J,mu,H) computes the Hamiltonian according to\n",
    "    \n",
    "        H[i,j] = H_core[i,j] + H_rot[i,j] * delta[i,j]\n",
    "\n",
    "    where the diagonal rotational potential is given by\n",
    "    \n",
    "        H_rot[i,i] = J*(J+1) / ( 2 * mu * R**2 )\n",
    "        \n",
    "    INPUT:\n",
    "        H_Core[][]: float array, core matrix that contains the kinetics energy and rotationaless B.O. potential\n",
    "        R_fit[]:    float array, internuclear distances\n",
    "        J:          integer, rotational quantum number\n",
    "        mu:         float, reduced mass\n",
    "    OUTPUT:\n",
    "        H[][]:      float matrix, Hamiltonian matrix including kinetic energy matrix, B.O. potential, and rotational potential\n",
    "    '''\n",
    "\n",
    "    rot_fac = float( J * ( J + 1 ) ) / ( 2.0 * mu )\n",
    "    \n",
    "    for i in range( len( R_fit_ ) ):\n",
    "\n",
    "        for j in range( i ):\n",
    "\n",
    "            H[i,j] = H_core[i,j]\n",
    "            H[j,i] = H[i,j]\n",
    "\n",
    "        H[i,i] = H_core[i,i] + rot_fac / ( R_fit[i]**2 )\n",
    "\n",
    "    return H\n"
   ]
  },
  {
   "cell_type": "markdown",
   "id": "e2854b0f-575e-43ad-b15f-f0b8b1611980",
   "metadata": {},
   "source": [
    "Function to diagonalize the Hamiltonian "
   ]
  },
  {
   "cell_type": "code",
   "execution_count": 11,
   "id": "f61ac06b-57a6-407e-8e83-1509cd0ab3f7",
   "metadata": {},
   "outputs": [],
   "source": [
    "def get_rovib_energies( H , E_rovib, C_rovib ):\n",
    "\n",
    "    '''\n",
    "    function E_rovib, C_rovib = get_rovib_energies( H , E_rovib, C_rovib )\n",
    "\n",
    "    calculates the rovibrational energies (E_rovib) and corresponding eigenevectors (C_rovib) by diagonalziing the Hamiltonian \n",
    "    on entry, the Hamiltonian is assumed to be in atomic units\n",
    "    on return, the eigenvalues and corresponding eigenvectors are sorted in ascending order, and eigenvalues are returned in wavenumbers\n",
    "\n",
    "    INPUT:\n",
    "        H[][]:        float array, stores Hamiltonian\n",
    "    OUTPUT:\n",
    "        E_rovib[]:    float array, rovibrational energies in ascending order.\n",
    "        C_rovib[][]:  float matrix, eigenvectors corresponding to eigenvalues \n",
    "    '''\n",
    "\n",
    "    # get some dimensions\n",
    "    N      = len(H[0])      # dimension of the Hamiltonian\n",
    "    n_save = len(E_rovib)   # number of vibrational states to save\n",
    "\n",
    "    # allocate arryas for diagonalization\n",
    "    eig_vals = np.zeros( N , dtype = float )\n",
    "    eig_vecs = np.zeros( ( N , N ), dtype = float )\n",
    "\n",
    "    # diagonalize \n",
    "    eig_vals , eig_vecs = sp.linalg.eigh( H )\n",
    "\n",
    "    # save n lowest-energy eigenvectors\n",
    "    for n in range( n_save):\n",
    "\n",
    "        E_rovib[ n ] = eig_vals[ n ]\n",
    "        C_rovib[ n , : ] = eig_vecs[ : , n ]\n",
    "    \n",
    "    # convert eigenvalues to wave numbers\n",
    "    E_rovib = convert_values(E_rovib , 'au2invcm')\n",
    "    \n",
    "    return E_rovib, C_rovib\n",
    "    "
   ]
  },
  {
   "cell_type": "markdown",
   "id": "044da393-351a-4034-addf-f8b84f4342ee",
   "metadata": {},
   "source": [
    "Function to calculate the value of the vibrational wave function at ALL grid point values $R_i$ according to Eq. (3.4)"
   ]
  },
  {
   "cell_type": "code",
   "execution_count": 12,
   "id": "33b841b1-9e51-4fed-af7b-09a0cd1eba20",
   "metadata": {},
   "outputs": [],
   "source": [
    "def compute_normalized_WF(eigvec,R_fit):\n",
    "\n",
    "    '''\n",
    "    function WF = compute_normalized_WF(C,R) calculates the value of the normalized wave function at each grid point in R\n",
    "\n",
    "    input:\n",
    "        eigvec: float array, eigenvector of rovibrational hamiltonian\n",
    "        R:      float array. grid points\n",
    "    output:\n",
    "        WF:     float array, value of normalized wave function at grid points\n",
    "    '''\n",
    "\n",
    "    # get number of grid points/expansion coefficients\n",
    "    N = len(eigvec)\n",
    "\n",
    "    # calculate grid point spacing\n",
    "    Delta_R = R_fit[1] - R_fit[0]\n",
    "\n",
    "    # initialize wave function values\n",
    "    WF = np.zeros(N, dtype = float)\n",
    "\n",
    "    # loop over grid points\n",
    "    for n in range(N):\n",
    "\n",
    "        # value of the wave function at this grid point\n",
    "        WF[n] = eigvec[n] / R_fit[n] \n",
    "\n",
    "    # normalize the wave function\n",
    "    WF /= np.sqrt(Delta_R) \n",
    "\n",
    "    return WF"
   ]
  },
  {
   "cell_type": "markdown",
   "id": "91abd9c3-7dc1-459d-ba54-ff18acdc9cb5",
   "metadata": {},
   "source": [
    "Function to calculate the line positions, assuming that the molecule is in the ground vibrational state. Thus, for the R branch, the line positions are $\\tilde{\\nu}_R(J,n) = \\tilde{E}(J+1,n) - \\tilde{E}(J+1,0)$, and $\\tilde{\\nu}_P(J,n) = \\tilde{E}(J-1,n) - \\tilde{E}(J+1,0)$. $n$ denotes the vibrational quantum number for the final states, with $n=1$ for the fundamental transition, and $n=2$ corresponds to the first overtone."
   ]
  },
  {
   "cell_type": "code",
   "execution_count": 13,
   "id": "1c3086f5-e710-4bad-a209-1bc91432b978",
   "metadata": {},
   "outputs": [],
   "source": [
    "def get_line_positions( energies , n_max , J_max ):\n",
    "\n",
    "    ''' \n",
    "    function P_branch,R_branch = get_line_positions(energies, n_max, J_max) calculates the line positions in the P (dJ = -1) and R (dJ = +1) branches \n",
    "             assuming that the molecule is initially in the ground vibrational state with n=0 \n",
    "\n",
    "    input:\n",
    "        energies[][]: float array with energies of rovibrational levels\n",
    "        n_max:        maximum number of vibrational states for which energies were saved (int)\n",
    "        J_max:        maximum number of rotational levels for which energies were saved (int)\n",
    "    output:\n",
    "        P_branch[]:   float array with line positions in the P branch\n",
    "        R_branch[]:   float array with line positions in the P branch\n",
    "    '''\n",
    "    \n",
    "    P_branch = np.zeros( ( J_max + 1 , n_max + 1) , dtype = float )\n",
    "    R_branch = np.zeros( ( J_max + 1 , n_max + 1) , dtype = float )\n",
    "    \n",
    "    for n_f in range( 1 , n_max + 1 ):\n",
    "\n",
    "        for J_i in range( J_max ):\n",
    "        \n",
    "            R_branch[ J_i , n_f ] = energies[ J_i + 1 , n_f ] - energies[ J_i , 0 ]\n",
    "\n",
    "        for J_i in range( 1 , J_max + 1 ): \n",
    "\n",
    "            P_branch[ J_i , n_f ] = energies[ J_i - 1 , n_f ] - energies[ J_i , 0 ]\n",
    "\n",
    "    return P_branch , R_branch"
   ]
  },
  {
   "cell_type": "markdown",
   "id": "11d9dadb-7422-46f1-bae2-dc70ac21cfc0",
   "metadata": {},
   "source": [
    "Calculate thermal populations of rovibrational levels. The thermal population is given by Eq. (4.2)"
   ]
  },
  {
   "cell_type": "code",
   "execution_count": 14,
   "id": "aebc7d4a-44e8-402d-b611-db202aa43858",
   "metadata": {},
   "outputs": [],
   "source": [
    "def get_thermal_populations( energies , n_max, J_max , T):\n",
    "\n",
    "    ''' \n",
    "    function P_thermal = get_thermal_populations(energies, n_max, J_max, T) calculates the thermal populations of the rovibrational\n",
    "             energy levels with quantum numbers (n,J), taking into account degeneracy and the Boltzmann factor.\n",
    "\n",
    "    input:\n",
    "        energies[][]:  float array with energies of rovibrational levels\n",
    "        n_max:         maximum number of vibrational states for which energies were saved (int)\n",
    "        J_max:         maximum number of rotational levels for which energies were saved (int)\n",
    "        T:             temerpature of sample (K)\n",
    "    output:\n",
    "        P_thermal[][]: float array with thermal populations of levels\n",
    "    '''\n",
    "\n",
    "    # initialize thermal population array\n",
    "    P_thermal = np.zeros( ( J_max + 1 , n_max + 1 ), dtype=float )\n",
    "    \n",
    "    # thermal energy in cm**-1\n",
    "    E_thermal_invcm = sp.constants.k * T / ( sp.constants.Planck * sp.constants.speed_of_light * 1.0e2 )\n",
    "\n",
    "    # maximum absolute (unnormalized) thermal population\n",
    "    max_P_thermal = - 1.0\n",
    "\n",
    "    # loop over vibrational states\n",
    "    for n in range ( n_max_ + 1 ):\n",
    "\n",
    "        # loop over rotational levels\n",
    "        for J in range ( J_max_ + 1 ):\n",
    "\n",
    "            # calculate thermal population\n",
    "            P_thermal[ J , n ] = float( 2*J + 1 ) * np.exp( - energies[ J , n ] / E_thermal_invcm ) \n",
    "\n",
    "            # check to see if we need to update the maximum population value\n",
    "            if ( max_P_thermal < P_thermal[ J , n ] ): max_P_thermal = P_thermal[ J , n ]\n",
    "\n",
    "    # scale the thermal populations\n",
    "    P_thermal = P_thermal/max_P_thermal\n",
    "\n",
    "    return P_thermal"
   ]
  },
  {
   "cell_type": "markdown",
   "id": "1d663e2f-9d81-4d18-a0ac-f5b65e1c4cd2",
   "metadata": {},
   "source": [
    "Function to calculate the transition dipole moment $\\langle \\mu \\rangle_{n_i \\rightarrow n_f, J_i \\rightarrow J_f}$ according to Eq. (4.3)"
   ]
  },
  {
   "cell_type": "code",
   "execution_count": 15,
   "id": "a8f49c80-14b0-4e30-8af8-c2f34406a289",
   "metadata": {},
   "outputs": [],
   "source": [
    "def transition_dipole_integral(C_f,C_i,mu):\n",
    "\n",
    "    # initialize transition dipole value\n",
    "    tr_dipole = 0.0\n",
    "\n",
    "    # loop over grid points\n",
    "    for n in range( len(mu) ):\n",
    "\n",
    "        # update transition dipole value\n",
    "        tr_dipole += C_f[n] * mu[n] * C_i[n]\n",
    "\n",
    "    return tr_dipole"
   ]
  },
  {
   "cell_type": "markdown",
   "id": "f550813b-36e1-4024-bc03-4d5a1f036f78",
   "metadata": {},
   "source": [
    "Function to calculate the transition dipoles for the P- and R-brach lines."
   ]
  },
  {
   "cell_type": "code",
   "execution_count": 16,
   "id": "ee29f82f-ba71-49bf-b6e8-e9540cd5dda6",
   "metadata": {},
   "outputs": [],
   "source": [
    "def get_transition_dipoles( WF , mu_fit , n_max , J_max ):\n",
    "\n",
    "    '''\n",
    "        function P_branch , R_branch = get_transition_dipoles( WF , mu_fit , n_max , J_max ) calculates the transition dipoles for the \n",
    "            P and R branches. See Eqs. (4.3) and (4.4)\n",
    "\n",
    "        input:\n",
    "            WF[][][]     : float array normalized wave functions for the rovibrational levels\n",
    "            mu_fit[]     : electronic dipole moment evaluated at the grid points\n",
    "            n_max        : maximum number of vibrational states saved\n",
    "            J_max        : maximum number of rotational levels saved\n",
    "        output:\n",
    "            P_branch[][] : transition dipole moments for the P branch\n",
    "            R_branch[][] : transition dipole moments for the R branch\n",
    "    '''\n",
    "    \n",
    "\n",
    "    # initialize transition dipole arrays\n",
    "    R_branch = np.zeros( ( J_max_ + 1 , n_max_ + 1) , dtype = float )\n",
    "    P_branch = np.zeros( ( J_max_ + 1 , n_max_ + 1) , dtype = float )\n",
    "\n",
    "    # loop over final vibrational states\n",
    "    for n_f in range( 1 , n_max + 1):\n",
    "\n",
    "        # loop over initial rotational levels in the R branch\n",
    "        for J_i in range( J_max ):\n",
    "\n",
    "            # calculate transition dipole moment for this R-branch trnasition\n",
    "            R_branch[ J_i , n_f ] = transition_dipole_integral( WF[ J_i + 1 , n_f , : ] , WF[ J_i , 0 , : ] , mu_fit )        \n",
    "\n",
    "        # loop over initial rotational levels in the P branch\n",
    "        for J_i in range( 1 , J_max_ + 1 ): \n",
    "\n",
    "            # calculate transition dipole moment for this P-branch trnasition\n",
    "            P_branch[ J_i , n_f ] = transition_dipole_integral( WF[ J_i - 1 , n_f , : ] , WF[ J_i , 0 , : ] , mu_fit )\n",
    "\n",
    "    return P_branch , R_branch"
   ]
  },
  {
   "cell_type": "markdown",
   "id": "50502dee-801e-4dac-890b-60fd3947085c",
   "metadata": {},
   "source": [
    "Function to calculate the relative transition intensities accroding to Eq. (4.1)"
   ]
  },
  {
   "cell_type": "code",
   "execution_count": 17,
   "id": "4222bf10-346e-47c8-a621-89c79e1c359c",
   "metadata": {},
   "outputs": [],
   "source": [
    "def get_relative_intensities( P_thermal , P_dip , R_dip , n_max , J_max ):\n",
    "\n",
    "    '''\n",
    "        function P_rel_int , R_rel_int = get_relative_intensities( P_thermal , P_dip , R_dip , n_max , J_max )\n",
    "                 calculates the relative intensities for transitions in the P and R branches such that the relative intensity for\n",
    "                 the most probable transitiion is 1. See Eq. (4.1)\n",
    "        \n",
    "        input:\n",
    "            P_thermal[][]: float array with the thermal populations of the rovibational energy levels (J , n)\n",
    "            P_dip[][]    : float array with transition dipole moments in the P branch\n",
    "            R_dip[][]    : float array with transition dipole moments in the R branch\n",
    "            n_max        : maximum number of vibrational states saved\n",
    "            J_max        : maximum number of rotational levels saved\n",
    "        output:\n",
    "            P_rel_int[][]: relative intensities for transitions in the P branch\n",
    "            R_rel_int[][]: relative intensities for transitions in the R branch\n",
    "    '''\n",
    "    \n",
    "    # initialize relative intensity arrays\n",
    "    R_rel_int    = np.zeros( ( J_max_ + 1 , n_max_ + 1) , dtype = float )\n",
    "    P_rel_int    = np.zeros( ( J_max_ + 1 , n_max_ + 1) , dtype = float )\n",
    "\n",
    "    # initialize maximum intensity value\n",
    "    I_max = 0.0\n",
    "\n",
    "    # find maxmimum intensity\n",
    "    \n",
    "    # loop over final vibrational states\n",
    "    for n_f in range( 1 , n_max + 1 ):\n",
    "\n",
    "        # loop over initial rotational levels in the R brnach\n",
    "        for J_i in range( J_max ):\n",
    "\n",
    "            # evaluate absolute intensity\n",
    "            I = P_thermal[ J_i , 0 ] * R_dip[ J_i , n_f ]**2\n",
    "\n",
    "            # check to see if this is larger than the max intensity\n",
    "            if ( I > I_max ): I_max = I\n",
    "\n",
    "        # loop over initial rotational levels in the P branch\n",
    "        for J_i in range( 1 , J_max + 1 ): \n",
    "\n",
    "            # calculate relative intensity\n",
    "            I = P_thermal[ J_i , 0 ] * P_dip[ J_i , n_f ]**2\n",
    "\n",
    "            # check to see if this is larger than the max intensity\n",
    "            if ( I > I_max ): I_max = I\n",
    "\n",
    "    # calculate relative intensities\n",
    "\n",
    "    # loop over final vibrational states\n",
    "    for n_f in range( 1 , n_max + 1 ):\n",
    "\n",
    "        # loop over initial rotational levels in the R branch\n",
    "        for J_i in range( J_max ):\n",
    "\n",
    "            # calculate relative intensity\n",
    "            R_rel_int[ J_i , n_f ] = ( P_thermal[ J_i , 0 ] * R_dip[ J_i , n_f ]**2 ) / I_max\n",
    "\n",
    "        # loop over initial rotational levels in the P branch\n",
    "        for J_i in range( 1 , J_max + 1 ): \n",
    "\n",
    "            # calculate relative intensity\n",
    "            P_rel_int[ J_i , n_f ] = ( P_thermal[ J_i , 0 ] * P_dip[ J_i , n_f ]**2 ) / I_max\n",
    "\n",
    "    return P_rel_int , R_rel_int"
   ]
  },
  {
   "cell_type": "markdown",
   "id": "90c71ef5-c990-48bc-a658-1817942e536e",
   "metadata": {},
   "source": [
    "Function to calculate the simulated IR spectrum. The intensity $I$ at $\\nu$ is given by\n",
    "\n",
    "\\begin{equation}\n",
    "I_{total}(\\nu) = \\sum_k I_k(\\nu),\n",
    "\\end{equation}\n",
    "\n",
    "where the contribution of each possible rovibrational transition $k$ is given by\n",
    "\n",
    "\\begin{equation}\n",
    "I_k(\\nu) =\\frac{1}{1 + \\left( \\frac{\\nu -\\nu_0}{w/2}\\right)^2}\n",
    "\\end{equation}\n",
    "\n",
    "Note that the code currently can only handle the spectrum associated with each vibrational transition separately."
   ]
  },
  {
   "cell_type": "code",
   "execution_count": 18,
   "id": "ddfbefe8-fba6-4d4c-929f-36a3fe4b4945",
   "metadata": {},
   "outputs": [],
   "source": [
    "def get_spectrum_intensity_value(nu , w , R_branch_pos , P_branch_pos , R_branch_int , P_branch_int ):\n",
    "\n",
    "    '''\n",
    "        function spectrum_Value = get_spectrum_intenity_value( nu , w , R_branch_pos , P_brnach_pos , R_branch_int , P_branch_int )\n",
    "                 calculates the simulated IR spectrum assuming each a Lorentzian line shape function. \n",
    "        \n",
    "        input:\n",
    "            nu              : energies (cm**-1) where to evaluate the absorption value\n",
    "            w               : full width at half maximum (cm**-1)\n",
    "            P_branch_pos[]  : float array with line positions in the P branch\n",
    "            R_branch_pos[]  : float array with line positions in the R branch\n",
    "            P_branch_int[]  : float array with transition intensities in the P branch\n",
    "            R_branch_pos[]  : float array with transition intensities in the R branch           \n",
    "        output:\n",
    "            spectrum_value[][]: absorption values\n",
    "    '''\n",
    "\n",
    "    \n",
    "    spectrum_value = 0.0\n",
    "\n",
    "    J_max = len(R_branch_pos)\n",
    "    \n",
    "    for J_i in range(J_max):\n",
    "\n",
    "        denom = 1.0 + 4.0 * ( ( nu - R_branch_pos[J_i] ) / w )**2\n",
    "        \n",
    "        spectrum_value += R_branch_int[J_i] / denom \n",
    "\n",
    "    for J_i in range(1,J_max):\n",
    "\n",
    "        denom = 1.0 + 4.0 * ( ( nu - P_branch_pos[J_i] ) / w )**2\n",
    "        \n",
    "        spectrum_value += P_branch_int[J_i] / denom\n",
    "    \n",
    "    return spectrum_value"
   ]
  },
  {
   "cell_type": "markdown",
   "id": "daf40b5f-6094-4fa4-b180-011204b954bf",
   "metadata": {},
   "source": [
    "Function to save the spectrum of the molecule. The function is set up such that it prints the information to a text file and introduces the variable $m$ for each rovibrational transition such that $m=-J$ for transitions in the $P$ branch, $m=J+1$ for transition in the $R$ branch, anbd $J$ denotes the quantum number of the initial rotational level. This substitution allows the analysis of the $P$ and $R$ branches all at once. "
   ]
  },
  {
   "cell_type": "code",
   "execution_count": 19,
   "id": "cbf6eb79-b052-47d3-847c-f3d082bc8529",
   "metadata": {},
   "outputs": [],
   "source": [
    "def save_spectrum( fname , J_max , P_branch_pos , R_branch_pos ):\n",
    "\n",
    "    '''\n",
    "        function save_spectrum( fname , J_max_ , P_branch_pos , R_branch_pos ) saves the line positions and corresponding m values, \n",
    "            where m=-J for P-branch lines, m=J+1 for R-branch lines, and J denotes the initial rotational quantum number\n",
    "            \n",
    "        input:\n",
    "            fname          : name of the file where the data is saved\n",
    "            J_max          : maximum number of rotational levels saved\n",
    "            P_branch_pos[] : array with line positions (cm**-1) in the P branch\n",
    "            R_branch_pos[] : array with line positions (cm**-1) in the R branch\n",
    "        output:\n",
    "            none\n",
    "    '''\n",
    "    \n",
    "    file = open( fname , 'w')\n",
    "\n",
    "    for J_i in range(J_max , 0, -1):\n",
    "        \n",
    "        file.write(f'{-J_i:4d} {P_branch_pos[J_i]:16.8f}\\n')\n",
    "\n",
    "    for J_i in range(0 , J_max ):\n",
    "        \n",
    "        file.write(f'{J_i+1:4d} {R_branch_pos[J_i]:16.8f}\\n')\n",
    "    \n",
    "    file.close()\n",
    "\n",
    "    return"
   ]
  },
  {
   "cell_type": "markdown",
   "id": "b314e0d2-388e-4917-b842-c1fc90fc728c",
   "metadata": {},
   "source": [
    "## Read in Born-Oppenheimer potential data"
   ]
  },
  {
   "cell_type": "markdown",
   "id": "27302201-77cb-4809-b093-94d06bdb50f2",
   "metadata": {},
   "source": [
    "Read in potential data"
   ]
  },
  {
   "cell_type": "code",
   "execution_count": 20,
   "id": "60743728-ef62-4bc5-a5de-e1ed2c4ef7d6",
   "metadata": {},
   "outputs": [],
   "source": [
    "# read in potential data\n",
    "\n",
    "mu_given_,R_in_,V_in_, mu_in_ = read_potential(PES_fname_)"
   ]
  },
  {
   "cell_type": "markdown",
   "id": "a4eda0f5-9c61-48b7-b76d-2560d92267ea",
   "metadata": {},
   "source": [
    "## Initialize arrays and matrices that are used by main program"
   ]
  },
  {
   "cell_type": "markdown",
   "id": "8586b1c3-39c7-4cb6-bcea-8baf8bdb870f",
   "metadata": {},
   "source": [
    "Initialize arrays needed for the code"
   ]
  },
  {
   "cell_type": "code",
   "execution_count": 21,
   "id": "a1c28c48-71e3-4441-a82d-c3e203479e87",
   "metadata": {},
   "outputs": [],
   "source": [
    "# Arrays for interpolated/fitted potential\n",
    "V_fit_          = np.zeros( N_ , dtype = float )\n",
    "R_fit_          = np.zeros( N_ , dtype = float )\n",
    "mu_fit_         = np.zeros( N_ , dtype = float )\n",
    "\n",
    "# Matrices for the Hamiltonian\n",
    "H_core          = np.zeros( ( N_ , N_ ), dtype = float ) \n",
    "H               = np.zeros( ( N_ , N_ ), dtype = float )\n",
    "\n",
    "#arrays/matrices to store eigenvector/eigenvalue information\n",
    "C_rovib         = np.zeros( ( J_max_ + 1 , n_max_ + 1 , N_ ), dtype = float )  # store rovibrational eigenvectors \n",
    "E_rovib         = np.zeros( ( J_max_ + 1 , n_max_ + 1 ), dtype=float )         # store rovibrational energies\n",
    "WF_rovib        = np.zeros( ( J_max_ + 1 , n_max_ + 1 , N_ ), dtype = float )  # store rovibrational wave functions\n",
    "\n",
    "#matrices to store R/P-branch line positions, transition dipole moments, relative line intensities, and thermal poulations of ro-vibrational energy levels\n",
    "R_branch_pos    = np.zeros( ( J_max_ + 1 , n_max_ + 1) , dtype = float )\n",
    "P_branch_pos    = np.zeros( ( J_max_ + 1 , n_max_ + 1) , dtype = float )\n",
    "R_branch_dip    = np.zeros( ( J_max_ + 1 , n_max_ + 1) , dtype = float )\n",
    "P_branch_dip    = np.zeros( ( J_max_ + 1 , n_max_ + 1) , dtype = float )\n",
    "R_branch_int    = np.zeros( ( J_max_ + 1 , n_max_ + 1) , dtype = float )\n",
    "P_branch_int    = np.zeros( ( J_max_ + 1 , n_max_ + 1) , dtype = float )\n",
    "P_thermal_rovib = np.zeros( ( J_max_ + 1 , n_max_ + 1 ), dtype=float )"
   ]
  },
  {
   "cell_type": "markdown",
   "id": "060ffb26-4fbf-4a79-a517-45c18aead6ab",
   "metadata": {},
   "source": [
    "## Convert input parameter values to atomic units"
   ]
  },
  {
   "cell_type": "markdown",
   "id": "decc588b-efcd-465e-b3b6-ba2f4ec84e31",
   "metadata": {},
   "source": [
    "Convert input values to atomic units. Here, we assume that the user specified isotope masses in units of g/mol and that internuclear separations are specified in units of Angstrom."
   ]
  },
  {
   "cell_type": "code",
   "execution_count": 22,
   "id": "d23fd49d-db48-4117-a3ca-098b8f7f6d43",
   "metadata": {},
   "outputs": [],
   "source": [
    "R_in_  = convert_values( R_in_  , 'ang2au' )\n",
    "m1_    = convert_units( m1_  , 'gPmol2au' )\n",
    "m2_    = convert_units( m2_  , 'gPmol2au' )\n",
    "R_min_ = convert_units( R_min_ , 'ang2au' )\n",
    "R_max_ = convert_units( R_max_ , 'ang2au' )"
   ]
  },
  {
   "cell_type": "markdown",
   "id": "261b2f1f-72d1-4543-b60d-b3316370ad6c",
   "metadata": {},
   "source": [
    "## Some preliminary setup work (get reduced mass, calculate fitted potential, fitted dipole function) "
   ]
  },
  {
   "cell_type": "code",
   "execution_count": 23,
   "id": "6a469201-81d1-4bd7-ad9f-a8fffd3d8631",
   "metadata": {},
   "outputs": [
    {
     "data": {
      "image/png": "[encoded data removed]",
      "text/plain": [
       "<Figure size 640x480 with 1 Axes>"
      ]
     },
     "metadata": {},
     "output_type": "display_data"
    }
   ],
   "source": [
    "# calculate reduced mass\n",
    "\n",
    "mu_ = compute_mu( m1_ , m2_ )\n",
    "\n",
    "# calculate spline fit for the potential\n",
    "\n",
    "R_fit_,V_fit_ = spline_potential(R_in_,V_in_,R_min_,R_max_,N_,plot_potential_fit_)\n",
    "\n",
    "# calculate spline fit for the electronic dipole moment\n",
    "\n",
    "if ( len(mu_in_) != 0 ): R_fit_,mu_fit_ = spline_potential(R_in_,mu_in_,R_min_,R_max_,N_,0)\n",
    "\n",
    "# if we use the expansion of the dipole moment, we need to shift the values stored in mu_fit since these are just values of R and we need R-Re\n",
    "\n",
    "if ( mu_given_ == 0 ): mu_fit_ = calculate_mu_expansion( V_fit_ , R_fit_ )         "
   ]
  },
  {
   "cell_type": "markdown",
   "id": "f305deb3-59a1-4899-8e9a-14a5e81f6f04",
   "metadata": {},
   "source": [
    "## Calculate the **core** Hamiltonian: H_core[i,j] = T[i,j] + V_BO[i,i] "
   ]
  },
  {
   "cell_type": "markdown",
   "id": "73dca953-d9b2-409e-b5a7-55a773825a0f",
   "metadata": {
    "jp-MarkdownHeadingCollapsed": true
   },
   "source": [
    "This is where you would implement the relevant loops (and calling any relevant functions) to add the kinetic energy contributiuon to the Hamiltonian matrix "
   ]
  },
  {
   "cell_type": "code",
   "execution_count": 24,
   "id": "418befb4-977f-4c33-87ee-a9747a6503c7",
   "metadata": {},
   "outputs": [],
   "source": [
    "# calculate the core Hamiltonian (this is independent of J, so we only need to calculate once at the beginning)\n",
    "\n",
    "H_core = compute_H_core(mu_,R_fit_,V_fit_,H_core)"
   ]
  },
  {
   "cell_type": "markdown",
   "id": "568f2b62-cb25-4d92-815d-d891ce83bc4b",
   "metadata": {},
   "source": [
    "## Update the Hamiltonian matrix by adding the potential energy contributions and diagonalize to determine the rovibrational energies"
   ]
  },
  {
   "cell_type": "markdown",
   "id": "2d5778da-09d9-437c-bc36-b7f9b4e78fd2",
   "metadata": {},
   "source": [
    "Gven that the core Hamiltonian does not change, we can calculate the rovibrational energies by adding in the rotational contributions for each value of the rotational quantum number $J$ and diagonalizing the resulting Hamiltonian. The pseudocode for this is:\n",
    "\n",
    "```python\n",
    "\n",
    "loop over possible J values\n",
    "\n",
    "    compute H = H_core + V_ROT(J) for this J\n",
    "\n",
    "    diagonalize H to obtain energies and wave functions for this J\n",
    "\n",
    "```\n",
    "\n",
    "Thus, the $n^{\\rm th}$ eigenvalue of the Hamiltonian corresponds to the energy of the state with quantum numbers $(n , J)$."
   ]
  },
  {
   "cell_type": "code",
   "execution_count": 25,
   "id": "a9a1a91a-711b-4766-9fea-e7c7abd1b871",
   "metadata": {},
   "outputs": [],
   "source": [
    "for J in range(J_max_ + 1):\n",
    "\n",
    "    # add in rotational contribution\n",
    "    \n",
    "    H = add_rotational_contribution(H_core,R_fit_,J,mu_,H)\n",
    "\n",
    "    # diagonalize Hamiltonian to compute rovibrational energies and eigenvectors\n",
    "\n",
    "    E_rovib[J,:], C_rovib[J,:,:] = get_rovib_energies( H , E_rovib[J,:], C_rovib[J,:,:] )\n",
    "\n",
    "    # calculate normalized wave functions\n",
    "\n",
    "    for n in range(n_max_ + 1):\n",
    "        \n",
    "        WF_rovib[J,n,:] = compute_normalized_WF(C_rovib[J,n,:],R_fit_)"
   ]
  },
  {
   "cell_type": "markdown",
   "id": "e31f8a4b-d8cf-4b0a-916d-c55bfbcb8e8a",
   "metadata": {},
   "source": [
    "## Given the rovibrational energies, determine the R/P-branch lines and thermal populations of rovibrational levels"
   ]
  },
  {
   "cell_type": "code",
   "execution_count": 26,
   "id": "fd68f814-566b-4131-b757-c4e609e27d8d",
   "metadata": {},
   "outputs": [],
   "source": [
    "# Calculate P/R-branch transition line positions\n",
    "\n",
    "P_branch_pos , R_branch_pos = get_line_positions( E_rovib , n_max_ , J_max_ )\n",
    "\n",
    "# Calculate thermal populations of rovibrational energy levels and normalize so that max value is 1.0\n",
    "\n",
    "P_thermal_rovib = get_thermal_populations( E_rovib , n_max_ , J_max_ , T_)"
   ]
  },
  {
   "cell_type": "markdown",
   "id": "0b778708-03c1-4788-870e-327cf3ac4739",
   "metadata": {},
   "source": [
    "## Given the vibrational wave functions and $R$-dependence of the dipole moment, calculate the transition dipole moments and the normalized transition intensities"
   ]
  },
  {
   "cell_type": "code",
   "execution_count": 27,
   "id": "01bc24b3-ce09-4001-8df5-2553a0d6c364",
   "metadata": {},
   "outputs": [],
   "source": [
    "# Calculate dipole transition moments\n",
    "\n",
    "P_branch_dip , R_branch_dip = get_transition_dipoles( C_rovib , mu_fit_ , n_max_ , J_max_ )\n",
    "\n",
    "# Calculate relative intensities taking into account thermal populations and transition dipole moments\n",
    "\n",
    "P_branch_int , R_branch_int = get_relative_intensities( P_thermal_rovib , P_branch_dip , R_branch_dip , n_max_ , J_max_ )"
   ]
  },
  {
   "cell_type": "markdown",
   "id": "3b7a7cd7-52f3-457e-a256-ba30922dd3ca",
   "metadata": {},
   "source": [
    "## Save line positions for fundamental and 1$^{\\rm\\bf st}$ overtone"
   ]
  },
  {
   "cell_type": "markdown",
   "id": "3098f42d-77cb-4521-bd69-75037a5c91ba",
   "metadata": {},
   "source": [
    "Print results to text file. By definition, $m=-J_i$ for lines in the P branch and $m=J_i+1$ for lines in the R-branch"
   ]
  },
  {
   "cell_type": "code",
   "execution_count": 28,
   "id": "958e16bd-eef1-455a-a265-5292c34e2a86",
   "metadata": {},
   "outputs": [],
   "source": [
    "if ( save_spectra_ == 1):\n",
    "    \n",
    "    # save the fundamental spectrum\n",
    "    save_spectrum( fund_fname_ , J_max_ , P_branch_pos[:,1] , R_branch_pos[:,1] )\n",
    "\n",
    "    # save the first overtone spectrum\n",
    "    save_spectrum( over_fname_ , J_max_ , P_branch_pos[:,2] , R_branch_pos[:,2] )"
   ]
  },
  {
   "cell_type": "markdown",
   "id": "f3770b5b-4a82-4bc8-a78b-ec13a66f5dd0",
   "metadata": {},
   "source": [
    "# Summary results"
   ]
  },
  {
   "cell_type": "markdown",
   "id": "27c237ac-886a-4741-a3aa-343854218051",
   "metadata": {},
   "source": [
    "## Print key results"
   ]
  },
  {
   "cell_type": "code",
   "execution_count": 29,
   "id": "c2b8f6f7-2e33-443e-a2d9-4a16ea297b93",
   "metadata": {},
   "outputs": [
    {
     "name": "stdout",
     "output_type": "stream",
     "text": [
      "P branch lines and relative intensities\n",
      "\n",
      "         FUNDAMENTAL           1ST OVERTONE\n",
      "J_i  dE(cm**-1)   I_rel     dE(cm**-1)   I_rel\n",
      " 10   2812.1865  0.0210      5743.8136  0.0001\n",
      "  9   2837.6660  0.0522      5774.0349  0.0004\n",
      "  8   2862.7159  0.1159      5803.3043  0.0008\n",
      "  7   2887.3231  0.2298      5831.6072  0.0017\n",
      "  6   2911.4747  0.4049      5858.9291  0.0030\n",
      "  5   2935.1579  0.6298      5885.2561  0.0048\n",
      "  4   2958.3600  0.8563      5910.5744  0.0067\n",
      "  3   2981.0683  1.0000      5934.8706  0.0081\n",
      "  2   3003.2705  0.9690      5958.1317  0.0080\n",
      "  1   3024.9543  0.7124      5980.3451  0.0060\n",
      "\n",
      "R branch lines and relative intensities\n",
      "\n",
      "         FUNDAMENTAL           1ST OVERTONE\n",
      "J_i  dE(cm**-1)   I_rel     dE(cm**-1)   I_rel\n",
      "  0   3066.7186  0.2627      6021.5799  0.0023\n",
      "  1   3086.7756  0.7113      6040.5779  0.0065\n",
      "  2   3106.2672  0.9665      6058.4816  0.0090\n",
      "  3   3125.1820  0.9964      6075.2801  0.0095\n",
      "  4   3143.5091  0.8522      6090.9635  0.0083\n",
      "  5   3161.2377  0.6261      6105.5218  0.0062\n",
      "  6   3178.3575  0.4020      6118.9459  0.0041\n",
      "  7   3194.8580  0.2279      6131.2270  0.0024\n",
      "  8   3210.7296  0.1147      6142.3567  0.0012\n",
      "  9   3225.9625  0.0516      6152.3271  0.0006\n"
     ]
    }
   ],
   "source": [
    "print(\"P branch lines and relative intensities\")\n",
    "print(\"\")\n",
    "print(F'         FUNDAMENTAL           1ST OVERTONE')\n",
    "print(F'J_i  dE(cm**-1)   I_rel     dE(cm**-1)   I_rel')\n",
    "for J_i in range(J_max_ , 0, -1):\n",
    "    print(F'{J_i:3d}   {P_branch_pos[J_i,1]:8.4f}  {P_branch_int[J_i,1]:6.4f}      {P_branch_pos[J_i,2]:8.4f}  {P_branch_int[J_i,2]:6.4f}' )\n",
    "\n",
    "print(\"\")\n",
    "\n",
    "print(\"R branch lines and relative intensities\")\n",
    "print(\"\")\n",
    "print(F'         FUNDAMENTAL           1ST OVERTONE')\n",
    "print(F'J_i  dE(cm**-1)   I_rel     dE(cm**-1)   I_rel')\n",
    "for J_i in range(0,J_max_):\n",
    "    print(F'{J_i:3d}   {R_branch_pos[J_i,1]:8.4f}  {R_branch_int[J_i,1]:6.4f}      {R_branch_pos[J_i,2]:8.4f}  {R_branch_int[J_i,2]:6.4f}' )\n"
   ]
  },
  {
   "cell_type": "markdown",
   "id": "59cb43c5-6c86-4c5a-a903-5403de5e0373",
   "metadata": {},
   "source": [
    "## Plot the fundamental and 1$^{\\rm \\bf st}$ overtone spectra"
   ]
  },
  {
   "cell_type": "code",
   "execution_count": 30,
   "id": "1871f4de-c2a8-4ff0-b8b7-3645de167f7c",
   "metadata": {},
   "outputs": [],
   "source": [
    "N_plot_IR      = 2000\n",
    "\n",
    "# calculate fundamental spectrum\n",
    "\n",
    "nu_min_fund    = P_branch_pos[ J_max_ , 1 ] + 10\n",
    "nu_max_fund    = R_branch_pos[ J_max_ - 1 , 1 ] + 10\n",
    "d_nu_fund      = ( nu_max_fund - nu_min_fund ) / float( N_plot_IR - 1 )\n",
    "\n",
    "IR_nu_fund     = np.zeros( N_plot_IR, dtype = float )\n",
    "IR_int_fund    = np.zeros( N_plot_IR, dtype = float ) \n",
    "I_rel_max_fund = -9.0e9\n",
    "\n",
    "for n in range( N_plot_IR ):\n",
    "\n",
    "    IR_nu_fund[ n ]  = n * d_nu_fund + nu_min_fund \n",
    "    IR_int_fund[ n ] = get_spectrum_intensity_value(IR_nu_fund[ n ] , peak_broadening_factor_ ,\n",
    "                       R_branch_pos[ : , 1 ] , P_branch_pos[ : , 1 ] , R_branch_int[ : , 1 ] , P_branch_int[ : , 1 ] )\n",
    "\n",
    "    if ( IR_int_fund[ n ] > I_rel_max_fund ): I_rel_max_fund = IR_int_fund[ n ] \n",
    "\n",
    "# calculate 1st overtone spectrum\n",
    "\n",
    "nu_min_over    = P_branch_pos[ J_max_ , 2 ] + 10\n",
    "nu_max_over    = R_branch_pos[ J_max_ - 1 , 2 ] + 10\n",
    "d_nu_over      = ( nu_max_over - nu_min_over ) / float( N_plot_IR - 1 )\n",
    "\n",
    "IR_nu_over     = np.zeros( N_plot_IR, dtype = float )\n",
    "IR_int_over    = np.zeros( N_plot_IR, dtype = float ) \n",
    "I_rel_max_over = -9.0e9\n",
    "\n",
    "for n in range( N_plot_IR ):\n",
    "\n",
    "    IR_nu_over[ n ]  = n * d_nu_over + nu_min_over \n",
    "    IR_int_over[ n ] = get_spectrum_intensity_value(IR_nu_over[ n ] , peak_broadening_factor_,\n",
    "                       R_branch_pos[ : , 2 ] , P_branch_pos[ : , 2 ] , R_branch_int[ : , 2 ] , P_branch_int[ : , 2 ] )\n",
    "\n",
    "    if ( IR_int_over[ n ] > I_rel_max_over ): I_rel_max_over = IR_int_over[ n ] \n"
   ]
  },
  {
   "cell_type": "code",
   "execution_count": 31,
   "id": "290b313d-73d1-489e-925c-4a22787c9f92",
   "metadata": {},
   "outputs": [
    {
     "data": {
      "image/png": "[encoded data removed]",
      "text/plain": [
       "<Figure size 640x480 with 1 Axes>"
      ]
     },
     "metadata": {},
     "output_type": "display_data"
    },
    {
     "data": {
      "image/png": "[encoded data removed]",
      "text/plain": [
       "<Figure size 640x480 with 1 Axes>"
      ]
     },
     "metadata": {},
     "output_type": "display_data"
    }
   ],
   "source": [
    "if ( plot_spectrum_ == 1 ):\n",
    "\n",
    "    # fundamental\n",
    "    \n",
    "    plt.xlim( nu_min_fund , nu_max_fund )\n",
    "    plt.ylim( 0.0 , I_rel_max_fund * 1.05 )\n",
    "    plt.xlabel( 'v (cm$^{-1}$)' )\n",
    "    plt.ylabel( 'I$_{rel}$' )\n",
    "    plt.plot( IR_nu_fund , IR_int_fund )\n",
    "    plt.legend( ['fundamental'], loc='upper left' )\n",
    "    plt.show()\n",
    "\n",
    "    # 1st overtone\n",
    "    \n",
    "    plt.xlim( nu_min_over , nu_max_over )\n",
    "    plt.ylim( 0.0 , I_rel_max_over * 1.05 )\n",
    "    plt.xlabel( 'v (cm$^{-1}$)' )\n",
    "    plt.ylabel( 'I$_{rel}$' )\n",
    "    plt.plot( IR_nu_over , IR_int_over )\n",
    "    plt.legend( ['1$^{st}$ overtone'], loc='upper left' )\n",
    "    plt.show()"
   ]
  },
  {
   "cell_type": "markdown",
   "id": "cc1c47ab-e040-41de-b619-fa520b2454f6",
   "metadata": {},
   "source": [
    "## Plot first few vibrational functions"
   ]
  },
  {
   "cell_type": "code",
   "execution_count": 32,
   "id": "30a33f67-472a-40bf-af53-55312a60fad8",
   "metadata": {},
   "outputs": [
    {
     "data": {
      "image/png": "[encoded data removed]",
      "text/plain": [
       "<Figure size 640x480 with 1 Axes>"
      ]
     },
     "metadata": {},
     "output_type": "display_data"
    }
   ],
   "source": [
    "plt.xlim( R_min_ , R_max_ )\n",
    "plt.ylim( -1 , 1 )\n",
    "plt.plot(R_fit_ , WF_rovib[ 0 , 0 ] , 'b-' , R_fit_ , WF_rovib[ 0 , 1 ] , 'g-' , \n",
    "         R_fit_ , WF_rovib[ 0 , 2 ] , 'c-' , R_fit_ , V_fit_ , 'r--' )\n",
    "\n",
    "plt.legend(['Psi$_0$(R)','Psi$_1$(R)','Psi$_2$(R)','V(R)'])\n",
    "plt.show()"
   ]
  },
  {
   "cell_type": "code",
   "execution_count": null,
   "id": "2834e894-15c0-46cc-a954-0a63649ed0ba",
   "metadata": {},
   "outputs": [],
   "source": []
  },
  {
   "cell_type": "code",
   "execution_count": null,
   "id": "e907a494-41ff-4d67-8740-19d786f06049",
   "metadata": {},
   "outputs": [],
   "source": []
  }
 ],
 "metadata": {
  "kernelspec": {
   "display_name": "Python 3 (ipykernel)",
   "language": "python",
   "name": "python3"
  },
  "language_info": {
   "codemirror_mode": {
    "name": "ipython",
    "version": 3
   },
   "file_extension": ".py",
   "mimetype": "text/x-python",
   "name": "python",
   "nbconvert_exporter": "python",
   "pygments_lexer": "ipython3",
   "version": "3.10.14"
  }
 },
 "nbformat": 4,
 "nbformat_minor": 5
}
